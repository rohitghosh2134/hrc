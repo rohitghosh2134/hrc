{
 "cells": [
  {
   "cell_type": "markdown",
   "metadata": {},
   "source": [
    "### B2B- INVOICE PAYMENT DATE PREDICTION MODEL - BY MISHA DEY "
   ]
  },
  {
   "cell_type": "code",
   "execution_count": 1,
   "metadata": {
    "execution": {
     "iopub.status.busy": "2022-02-18T08:07:28.561965Z",
     "iopub.status.idle": "2022-02-18T08:07:28.562830Z"
    }
   },
   "outputs": [
    {
     "ename": "ModuleNotFoundError",
     "evalue": "No module named 'featuretools'",
     "output_type": "error",
     "traceback": [
      "\u001b[1;31m---------------------------------------------------------------------------\u001b[0m",
      "\u001b[1;31mModuleNotFoundError\u001b[0m                       Traceback (most recent call last)",
      "\u001b[1;32m<ipython-input-1-936e28482531>\u001b[0m in \u001b[0;36m<module>\u001b[1;34m\u001b[0m\n\u001b[0;32m     22\u001b[0m \u001b[1;32mfrom\u001b[0m \u001b[0msklearn\u001b[0m\u001b[1;33m.\u001b[0m\u001b[0mpreprocessing\u001b[0m \u001b[1;32mimport\u001b[0m \u001b[0mOneHotEncoder\u001b[0m\u001b[1;33m,\u001b[0m\u001b[0mLabelEncoder\u001b[0m\u001b[1;33m\u001b[0m\u001b[1;33m\u001b[0m\u001b[0m\n\u001b[0;32m     23\u001b[0m \u001b[1;32mfrom\u001b[0m \u001b[0msklearn\u001b[0m\u001b[1;33m.\u001b[0m\u001b[0mdecomposition\u001b[0m \u001b[1;32mimport\u001b[0m \u001b[0mPCA\u001b[0m\u001b[1;33m\u001b[0m\u001b[1;33m\u001b[0m\u001b[0m\n\u001b[1;32m---> 24\u001b[1;33m \u001b[1;32mimport\u001b[0m \u001b[0mfeaturetools\u001b[0m \u001b[1;32mas\u001b[0m \u001b[0mft\u001b[0m\u001b[1;33m\u001b[0m\u001b[1;33m\u001b[0m\u001b[0m\n\u001b[0m\u001b[0;32m     25\u001b[0m \u001b[1;32mfrom\u001b[0m \u001b[0msklearn\u001b[0m\u001b[1;33m.\u001b[0m\u001b[0msvm\u001b[0m \u001b[1;32mimport\u001b[0m \u001b[0mSVR\u001b[0m\u001b[1;33m\u001b[0m\u001b[1;33m\u001b[0m\u001b[0m\n\u001b[0;32m     26\u001b[0m \u001b[1;32mfrom\u001b[0m \u001b[0mmlxtend\u001b[0m\u001b[1;33m.\u001b[0m\u001b[0mfeature_selection\u001b[0m \u001b[1;32mimport\u001b[0m \u001b[0mSequentialFeatureSelector\u001b[0m\u001b[1;33m,\u001b[0m\u001b[0mExhaustiveFeatureSelector\u001b[0m\u001b[1;33m\u001b[0m\u001b[1;33m\u001b[0m\u001b[0m\n",
      "\u001b[1;31mModuleNotFoundError\u001b[0m: No module named 'featuretools'"
     ]
    }
   ],
   "source": [
    "import gc\n",
    "import math\n",
    "import PIL \n",
    "import pandas as pd\n",
    "import numpy as np\n",
    "import seaborn \n",
    "import datetime\n",
    "import random\n",
    "import warnings\n",
    "import xgboost as xgb\n",
    "from scipy import stats\n",
    "from sklearn.linear_model import LinearRegression,Ridge,Lasso\n",
    "from sklearn.ensemble import RandomForestRegressor\n",
    "from sklearn.neighbors import KNeighborsRegressor\n",
    "from sklearn.tree import DecisionTreeRegressor\n",
    "import matplotlib.pyplot as plt\n",
    "from sklearn.utils import shuffle\n",
    "from sklearn.model_selection import train_test_split , GridSearchCV,cross_val_score,cross_val_predict,cross_validate,RandomizedSearchCV\n",
    "from sklearn.metrics import mean_squared_error,mean_absolute_error,explained_variance_score,max_error,r2_score,median_absolute_error,mean_squared_log_error\n",
    "from sklearn.feature_selection import VarianceThreshold,SelectKBest,f_regression\n",
    "from sklearn.preprocessing import MinMaxScaler,normalize,StandardScaler,RobustScaler\n",
    "from sklearn.preprocessing import OneHotEncoder,LabelEncoder\n",
    "from sklearn.decomposition import PCA\n",
    "import featuretools as ft\n",
    "from sklearn.svm import SVR\n",
    "from mlxtend.feature_selection import SequentialFeatureSelector,ExhaustiveFeatureSelector"
   ]
  },
  {
   "cell_type": "code",
   "execution_count": null,
   "metadata": {
    "execution": {
     "iopub.status.busy": "2022-02-18T08:07:28.564357Z",
     "iopub.status.idle": "2022-02-18T08:07:28.565074Z"
    }
   },
   "outputs": [],
   "source": [
    "# Reading the csv file\n",
    "data = pd.read_csv(\"dataset.csv\")"
   ]
  },
  {
   "cell_type": "markdown",
   "metadata": {},
   "source": [
    "### EXPLORATORY  DATA   ANALYSIS"
   ]
  },
  {
   "cell_type": "code",
   "execution_count": null,
   "metadata": {
    "execution": {
     "iopub.status.busy": "2022-02-18T08:07:28.566465Z",
     "iopub.status.idle": "2022-02-18T08:07:28.567124Z"
    }
   },
   "outputs": [],
   "source": [
    "data"
   ]
  },
  {
   "cell_type": "code",
   "execution_count": null,
   "metadata": {
    "execution": {
     "iopub.status.busy": "2022-02-18T08:07:28.568313Z",
     "iopub.status.idle": "2022-02-18T08:07:28.569013Z"
    }
   },
   "outputs": [],
   "source": [
    "data.shape"
   ]
  },
  {
   "cell_type": "code",
   "execution_count": null,
   "metadata": {
    "execution": {
     "iopub.status.busy": "2022-02-18T08:07:28.570210Z",
     "iopub.status.idle": "2022-02-18T08:07:28.571051Z"
    }
   },
   "outputs": [],
   "source": [
    "# Data Description\n",
    "data.describe()"
   ]
  },
  {
   "cell_type": "code",
   "execution_count": null,
   "metadata": {
    "execution": {
     "iopub.status.busy": "2022-02-18T08:07:28.572408Z",
     "iopub.status.idle": "2022-02-18T08:07:28.573915Z"
    }
   },
   "outputs": [],
   "source": [
    "# Dataset olumns\n",
    "data.columns"
   ]
  },
  {
   "cell_type": "markdown",
   "metadata": {},
   "source": [
    "#### Frequency Table"
   ]
  },
  {
   "cell_type": "code",
   "execution_count": 2,
   "metadata": {
    "execution": {
     "iopub.execute_input": "2022-02-18T08:07:28.677202Z",
     "iopub.status.busy": "2022-02-18T08:07:28.676810Z",
     "iopub.status.idle": "2022-02-18T08:07:28.697043Z",
     "shell.execute_reply": "2022-02-18T08:07:28.694973Z",
     "shell.execute_reply.started": "2022-02-18T08:07:28.677166Z"
    }
   },
   "outputs": [],
   "source": [
    "coun_t  = data.nunique().to_frame(name = 'Counts')\n",
    "coun_t"
   ]
  },
  {
   "cell_type": "markdown",
   "metadata": {},
   "source": [
    "#### Bar Plot Representing the Frequency Counts"
   ]
  },
  {
   "cell_type": "code",
   "execution_count": null,
   "metadata": {
    "execution": {
     "iopub.status.busy": "2022-02-18T08:07:28.698530Z",
     "iopub.status.idle": "2022-02-18T08:07:28.699469Z"
    }
   },
   "outputs": [],
   "source": [
    "plt.style.use('dark_background')\n",
    "\n",
    "x_val = coun_t.index\n",
    "y_val = coun_t.values.reshape(coun_t.shape[0])\n",
    "plt.figure(figsize = (35,10))\n",
    "plt.bar(x_val,y_val,color='maroon')\n",
    "plt.show()"
   ]
  },
  {
   "cell_type": "code",
   "execution_count": null,
   "metadata": {},
   "outputs": [],
   "source": []
  },
  {
   "cell_type": "markdown",
   "metadata": {},
   "source": [
    "#### Mode - Most Frequently occuring Element"
   ]
  },
  {
   "cell_type": "code",
   "execution_count": null,
   "metadata": {
    "execution": {
     "iopub.status.busy": "2022-02-18T08:07:28.701151Z",
     "iopub.status.idle": "2022-02-18T08:07:28.702187Z"
    },
    "scrolled": true
   },
   "outputs": [],
   "source": [
    "data[['business_code','buisness_year','invoice_currency','document type','cust_payment_terms','isOpen']].agg(pd.Series.mode)        "
   ]
  },
  {
   "cell_type": "markdown",
   "metadata": {},
   "source": [
    "#### Median - Ordinal Variables ( 'invoice_id' ,buisness_year, isOpen )"
   ]
  },
  {
   "cell_type": "code",
   "execution_count": null,
   "metadata": {
    "execution": {
     "iopub.status.busy": "2022-02-18T08:07:28.703713Z",
     "iopub.status.idle": "2022-02-18T08:07:28.704918Z"
    }
   },
   "outputs": [],
   "source": [
    "data[['invoice_id','buisness_year','invoice_currency','isOpen']].agg(np.median).to_frame()         "
   ]
  },
  {
   "cell_type": "markdown",
   "metadata": {},
   "source": [
    "#### Mean and Standard Deviation - interval level variables (total_open_amount)"
   ]
  },
  {
   "cell_type": "code",
   "execution_count": null,
   "metadata": {
    "execution": {
     "iopub.status.busy": "2022-02-18T08:07:28.706654Z",
     "iopub.status.idle": "2022-02-18T08:07:28.707794Z"
    }
   },
   "outputs": [],
   "source": [
    "data['total_open_amount'].agg(['mean','std']).to_frame()"
   ]
  },
  {
   "cell_type": "markdown",
   "metadata": {},
   "source": [
    "### DATA PRE-PROCESSING"
   ]
  },
  {
   "cell_type": "markdown",
   "metadata": {},
   "source": [
    "#### REMOVING 'NULL' VALUES FROM THE DATAFRAME"
   ]
  },
  {
   "cell_type": "code",
   "execution_count": null,
   "metadata": {
    "execution": {
     "iopub.status.busy": "2022-02-18T08:07:28.709534Z",
     "iopub.status.idle": "2022-02-18T08:07:28.710556Z"
    }
   },
   "outputs": [],
   "source": [
    "null_vals = data.isnull().sum().to_frame(name = 'NULL_COUNTS')\n",
    "null_vals = null_vals[null_vals['NULL_COUNTS']>0]\n",
    "null_features = null_vals.index\n",
    "null_vals"
   ]
  },
  {
   "cell_type": "code",
   "execution_count": null,
   "metadata": {
    "execution": {
     "iopub.status.busy": "2022-02-18T08:07:28.712408Z",
     "iopub.status.idle": "2022-02-18T08:07:28.713380Z"
    }
   },
   "outputs": [],
   "source": [
    "plt.title(\"NULL VALUES IN DATA\")\n",
    "seaborn.barplot(x=null_features,y=null_vals['NULL_COUNTS'])"
   ]
  },
  {
   "cell_type": "code",
   "execution_count": null,
   "metadata": {
    "execution": {
     "iopub.status.busy": "2022-02-18T08:07:28.715044Z",
     "iopub.status.idle": "2022-02-18T08:07:28.716029Z"
    }
   },
   "outputs": [],
   "source": [
    "# Analysis: \"area_business\" has all NaN values --> hence we drop that first\n",
    "data=data.drop(columns=['area_business'])\n",
    "data.shape"
   ]
  },
  {
   "cell_type": "code",
   "execution_count": null,
   "metadata": {
    "execution": {
     "iopub.status.busy": "2022-02-18T08:07:28.717871Z",
     "iopub.status.idle": "2022-02-18T08:07:28.718884Z"
    }
   },
   "outputs": [],
   "source": [
    "test_dataset = data[data['clear_date'].isnull() == True]\n",
    "data = data.dropna()"
   ]
  },
  {
   "cell_type": "code",
   "execution_count": null,
   "metadata": {
    "execution": {
     "iopub.status.busy": "2022-02-18T08:07:28.720771Z",
     "iopub.status.idle": "2022-02-18T08:07:28.721764Z"
    }
   },
   "outputs": [],
   "source": [
    "test_dataset.shape"
   ]
  },
  {
   "cell_type": "code",
   "execution_count": null,
   "metadata": {
    "execution": {
     "iopub.status.busy": "2022-02-18T08:07:28.723483Z",
     "iopub.status.idle": "2022-02-18T08:07:28.725118Z"
    }
   },
   "outputs": [],
   "source": [
    "data.isnull().sum()  # All the rows with NULL values are dropped"
   ]
  },
  {
   "cell_type": "markdown",
   "metadata": {},
   "source": [
    "#### REMOVING DUPLICATE VALUES FROM DATAFRAME "
   ]
  },
  {
   "cell_type": "code",
   "execution_count": null,
   "metadata": {
    "execution": {
     "iopub.status.busy": "2022-02-18T08:07:28.726808Z",
     "iopub.status.idle": "2022-02-18T08:07:28.727480Z"
    }
   },
   "outputs": [],
   "source": [
    "print(\"Percentage of data lost due to dropping the NULL values in the dataframe : \",((50000-data.shape[0])/50000)*100 ,\"%\")  "
   ]
  },
  {
   "cell_type": "code",
   "execution_count": null,
   "metadata": {
    "execution": {
     "iopub.status.busy": "2022-02-18T08:07:28.728570Z",
     "iopub.status.idle": "2022-02-18T08:07:28.729177Z"
    }
   },
   "outputs": [],
   "source": [
    "#Dealing with the duplicates in the dataframe\n",
    "data.duplicated().sum() # No Duplicate Values"
   ]
  },
  {
   "cell_type": "code",
   "execution_count": null,
   "metadata": {
    "execution": {
     "iopub.status.busy": "2022-02-18T08:07:28.730313Z",
     "iopub.status.idle": "2022-02-18T08:07:28.761339Z"
    }
   },
   "outputs": [],
   "source": [
    "test_dataset.duplicated().sum()"
   ]
  },
  {
   "cell_type": "code",
   "execution_count": null,
   "metadata": {
    "execution": {
     "iopub.status.busy": "2022-02-18T08:07:28.763217Z",
     "iopub.status.idle": "2022-02-18T08:07:28.764170Z"
    }
   },
   "outputs": [],
   "source": [
    "#looking for duplicated columns\n",
    "data_trans = data.T\n",
    "data_trans.duplicated()"
   ]
  },
  {
   "cell_type": "code",
   "execution_count": null,
   "metadata": {
    "execution": {
     "iopub.status.busy": "2022-02-18T08:07:28.765796Z",
     "iopub.status.idle": "2022-02-18T08:07:28.766885Z"
    }
   },
   "outputs": [],
   "source": [
    "#looking for duplicated columns\n",
    "test_dataset_trans = test_dataset.T\n",
    "test_dataset_trans.duplicated()"
   ]
  },
  {
   "cell_type": "code",
   "execution_count": null,
   "metadata": {
    "execution": {
     "iopub.status.busy": "2022-02-18T08:07:28.768475Z",
     "iopub.status.idle": "2022-02-18T08:07:28.769358Z"
    }
   },
   "outputs": [],
   "source": [
    "(data['doc_id'] != data['invoice_id']).sum() # Hence column 'doc_id' and 'invoice_id' are identical"
   ]
  },
  {
   "cell_type": "code",
   "execution_count": null,
   "metadata": {
    "execution": {
     "iopub.status.busy": "2022-02-18T08:07:28.771187Z",
     "iopub.status.idle": "2022-02-18T08:07:28.772144Z"
    }
   },
   "outputs": [],
   "source": [
    "# We are hence dropping the 'doc_id' column and some other unnecessary columns \n",
    "data = data.drop(columns=['doc_id'])  "
   ]
  },
  {
   "cell_type": "code",
   "execution_count": null,
   "metadata": {
    "execution": {
     "iopub.status.busy": "2022-02-18T08:07:28.773694Z",
     "iopub.status.idle": "2022-02-18T08:07:28.774612Z"
    }
   },
   "outputs": [],
   "source": [
    "test_dataset = test_dataset.drop(columns=['doc_id'])"
   ]
  },
  {
   "cell_type": "code",
   "execution_count": null,
   "metadata": {
    "execution": {
     "iopub.status.busy": "2022-02-18T08:07:28.776209Z",
     "iopub.status.idle": "2022-02-18T08:07:28.777217Z"
    }
   },
   "outputs": [],
   "source": [
    "gc.collect()\n",
    "data.shape"
   ]
  },
  {
   "cell_type": "code",
   "execution_count": 3,
   "metadata": {
    "execution": {
     "iopub.execute_input": "2022-02-18T08:07:28.880928Z",
     "iopub.status.busy": "2022-02-18T08:07:28.880067Z",
     "iopub.status.idle": "2022-02-18T08:07:28.904764Z",
     "shell.execute_reply": "2022-02-18T08:07:28.902867Z",
     "shell.execute_reply.started": "2022-02-18T08:07:28.880864Z"
    }
   },
   "outputs": [],
   "source": [
    "test_dataset.shape"
   ]
  },
  {
   "cell_type": "markdown",
   "metadata": {},
   "source": [
    "### Removing the column unique to each row : 'invoice_id'"
   ]
  },
  {
   "cell_type": "code",
   "execution_count": null,
   "metadata": {
    "execution": {
     "iopub.status.busy": "2022-02-18T08:07:28.906374Z",
     "iopub.status.idle": "2022-02-18T08:07:28.908958Z"
    }
   },
   "outputs": [],
   "source": [
    "data = data.drop(columns = 'invoice_id')\n",
    "test_dataset = test_dataset.drop(columns = 'invoice_id')"
   ]
  },
  {
   "cell_type": "markdown",
   "metadata": {},
   "source": [
    "### Removing the insignificant Columns"
   ]
  },
  {
   "cell_type": "code",
   "execution_count": null,
   "metadata": {
    "execution": {
     "iopub.status.busy": "2022-02-18T08:07:28.910214Z",
     "iopub.status.idle": "2022-02-18T08:07:28.910815Z"
    }
   },
   "outputs": [],
   "source": [
    "data1 = data.copy()\n",
    "test_dataset1 = test_dataset.copy()"
   ]
  },
  {
   "cell_type": "code",
   "execution_count": null,
   "metadata": {
    "execution": {
     "iopub.status.busy": "2022-02-18T08:07:28.912212Z",
     "iopub.status.idle": "2022-02-18T08:07:28.912880Z"
    }
   },
   "outputs": [],
   "source": [
    "data.columns"
   ]
  },
  {
   "cell_type": "code",
   "execution_count": null,
   "metadata": {
    "execution": {
     "iopub.status.busy": "2022-02-18T08:07:28.914071Z",
     "iopub.status.idle": "2022-02-18T08:07:28.922797Z"
    }
   },
   "outputs": [],
   "source": [
    "data = data.drop(columns = ['name_customer', 'posting_date','document_create_date'])\n"
   ]
  },
  {
   "cell_type": "code",
   "execution_count": null,
   "metadata": {
    "execution": {
     "iopub.status.busy": "2022-02-18T08:07:28.927160Z",
     "iopub.status.idle": "2022-02-18T08:07:28.930798Z"
    }
   },
   "outputs": [],
   "source": [
    "test_dataset = test_dataset.drop(columns =  ['name_customer', 'posting_date','document_create_date'])"
   ]
  },
  {
   "cell_type": "code",
   "execution_count": null,
   "metadata": {
    "execution": {
     "iopub.status.busy": "2022-02-18T08:07:28.936721Z",
     "iopub.status.idle": "2022-02-18T08:07:28.939603Z"
    }
   },
   "outputs": [],
   "source": [
    "list(data.columns)"
   ]
  },
  {
   "cell_type": "markdown",
   "metadata": {},
   "source": [
    "### FILTERING OUT THE CONSTANT FEATURES"
   ]
  },
  {
   "cell_type": "code",
   "execution_count": null,
   "metadata": {
    "execution": {
     "iopub.status.busy": "2022-02-18T08:07:28.960480Z",
     "iopub.status.idle": "2022-02-18T08:07:28.961845Z"
    }
   },
   "outputs": [],
   "source": [
    "const_feature = []\n",
    "uniq_val_count = []\n",
    "unique_cols = dict()\n",
    "for col in list(data.columns):\n",
    "    uniq_val_count.append(data[col].nunique())\n",
    "    if(data[col].nunique()==1):\n",
    "        const_feature.append(col)\n",
    "    \n",
    "print('\\n\\n\\nConstant Features are   :',const_feature)\n",
    "print('\\n\\nALL FEATURES WITH UNIQUE VALUES : \\n')\n",
    "pd.DataFrame({'COLUMN NAMES':list(data.columns) ,'UNIQUE VALUES COUNT':uniq_val_count})\n",
    "\n",
    "\n",
    "# Removing the constant feature\n",
    "data=data.drop(columns=const_feature)\n",
    "\n",
    "# Removing the constant feature\n",
    "test_dataset=test_dataset.drop(columns=const_feature)"
   ]
  },
  {
   "cell_type": "code",
   "execution_count": null,
   "metadata": {
    "execution": {
     "iopub.status.busy": "2022-02-18T08:07:28.963512Z",
     "iopub.status.idle": "2022-02-18T08:07:28.964590Z"
    }
   },
   "outputs": [],
   "source": [
    "list(data.columns)"
   ]
  },
  {
   "cell_type": "markdown",
   "metadata": {},
   "source": [
    "### Label Encoding across categorical columns : [ 'business_code' ,'cust_number'  , 'cust_payment_terms']"
   ]
  },
  {
   "cell_type": "code",
   "execution_count": null,
   "metadata": {
    "execution": {
     "iopub.status.busy": "2022-02-18T08:07:28.966169Z",
     "iopub.status.idle": "2022-02-18T08:07:28.967133Z"
    }
   },
   "outputs": [],
   "source": [
    "data['business_code'].unique()"
   ]
  },
  {
   "cell_type": "code",
   "execution_count": null,
   "metadata": {
    "execution": {
     "iopub.status.busy": "2022-02-18T08:07:28.968835Z",
     "iopub.status.idle": "2022-02-18T08:07:28.969865Z"
    }
   },
   "outputs": [],
   "source": [
    "data['cust_number'].unique()"
   ]
  },
  {
   "cell_type": "code",
   "execution_count": null,
   "metadata": {
    "execution": {
     "iopub.status.busy": "2022-02-18T08:07:28.971398Z",
     "iopub.status.idle": "2022-02-18T08:07:28.972328Z"
    }
   },
   "outputs": [],
   "source": [
    "data['cust_payment_terms'].unique()"
   ]
  },
  {
   "cell_type": "code",
   "execution_count": null,
   "metadata": {
    "execution": {
     "iopub.status.busy": "2022-02-18T08:07:28.973931Z",
     "iopub.status.idle": "2022-02-18T08:07:28.974827Z"
    }
   },
   "outputs": [],
   "source": [
    "data['buisness_year'].unique()"
   ]
  },
  {
   "cell_type": "code",
   "execution_count": null,
   "metadata": {
    "execution": {
     "iopub.status.busy": "2022-02-18T08:07:28.976405Z",
     "iopub.status.idle": "2022-02-18T08:07:28.977309Z"
    }
   },
   "outputs": [],
   "source": [
    "### Assign 0 for unknown classes\n",
    "\n",
    "class LabelEncoderExt(object):\n",
    "    def __init__(self):\n",
    "        self.label_encoder = LabelEncoder()\n",
    "\n",
    "    def fit(self, data_list):\n",
    "        self.label_encoder = self.label_encoder.fit(list(data_list) + ['Unknown'])\n",
    "        self.classes_ = self.label_encoder.classes_\n",
    "        return self\n",
    "\n",
    "    def transform(self, data_list):\n",
    "        new_data_list = list(data_list)\n",
    "        for unique_item in np.unique(data_list):\n",
    "            if unique_item not in self.label_encoder.classes_:\n",
    "                new_data_list = ['Unknown' if x==unique_item else x for x in new_data_list]\n",
    "        return self.label_encoder.transform(new_data_list)\n",
    "    \n",
    "    "
   ]
  },
  {
   "cell_type": "code",
   "execution_count": null,
   "metadata": {
    "execution": {
     "iopub.status.busy": "2022-02-18T08:07:28.978856Z",
     "iopub.status.idle": "2022-02-18T08:07:28.979893Z"
    }
   },
   "outputs": [],
   "source": [
    "list_cust_details = ['buisness_year','cust_number','business_code','cust_payment_terms']\n",
    "\n",
    "label_enc_list = dict()\n",
    "for col in range(len(list_cust_details)):\n",
    "    label_encoder = LabelEncoderExt()\n",
    "    label_encoder.fit(data[list_cust_details[col]])\n",
    "    data[list_cust_details[col]] = label_encoder.transform(data[list_cust_details[col]])\n",
    "    label_enc_list[list_cust_details[col]]=label_encoder\n"
   ]
  },
  {
   "cell_type": "code",
   "execution_count": null,
   "metadata": {
    "execution": {
     "iopub.status.busy": "2022-02-18T08:07:28.981397Z",
     "iopub.status.idle": "2022-02-18T08:07:28.982500Z"
    }
   },
   "outputs": [],
   "source": [
    "test_dataset.columns"
   ]
  },
  {
   "cell_type": "code",
   "execution_count": null,
   "metadata": {
    "execution": {
     "iopub.status.busy": "2022-02-18T08:07:28.984255Z",
     "iopub.status.idle": "2022-02-18T08:07:28.985288Z"
    }
   },
   "outputs": [],
   "source": [
    "for col in range(len(list_cust_details)):\n",
    "    test_dataset[list_cust_details[col]] = label_enc_list[list_cust_details[col]].transform(test_dataset[list_cust_details[col]])"
   ]
  },
  {
   "cell_type": "code",
   "execution_count": null,
   "metadata": {
    "execution": {
     "iopub.status.busy": "2022-02-18T08:07:28.986806Z",
     "iopub.status.idle": "2022-02-18T08:07:28.987748Z"
    }
   },
   "outputs": [],
   "source": [
    "for col in list_cust_details:\n",
    "    print(col,\"   :     \\n\",data[col].unique(),\"   \\n     \\n\")"
   ]
  },
  {
   "cell_type": "markdown",
   "metadata": {},
   "source": [
    "#### DATE-TIME CONNVERSION"
   ]
  },
  {
   "cell_type": "code",
   "execution_count": null,
   "metadata": {
    "execution": {
     "iopub.status.busy": "2022-02-18T08:07:28.989381Z",
     "iopub.status.idle": "2022-02-18T08:07:28.990290Z"
    }
   },
   "outputs": [],
   "source": [
    "data"
   ]
  },
  {
   "cell_type": "code",
   "execution_count": null,
   "metadata": {
    "execution": {
     "iopub.status.busy": "2022-02-18T08:07:28.992188Z",
     "iopub.status.idle": "2022-02-18T08:07:28.993280Z"
    }
   },
   "outputs": [],
   "source": [
    "def str_to_date(time_s,st):\n",
    "    st=''\n",
    "    for i in range(len(time_s)+3):\n",
    "        if(i<4):\n",
    "            st+=time_s[i]\n",
    "        if(i==4):\n",
    "            st+='-'\n",
    "        if(i==5 or i==6):\n",
    "            st+= time_s[i-1]\n",
    "        if(i==7):\n",
    "            st+='-'\n",
    "        if(i==8 or i==9):\n",
    "            st+=time_s[i-2]\n",
    "    return st  #### REMOVING 'NULL' VALUES FROM THE DATAFRAME"
   ]
  },
  {
   "cell_type": "code",
   "execution_count": null,
   "metadata": {
    "execution": {
     "iopub.status.busy": "2022-02-18T08:07:28.995001Z",
     "iopub.status.idle": "2022-02-18T08:07:28.995937Z"
    }
   },
   "outputs": [],
   "source": [
    "dt_lis = ['baseline_create_date','clear_date','due_in_date','document_create_date.1']\n",
    "\n",
    "st = ''\n",
    "data['baseline_create_date'] = pd.Series(data['baseline_create_date']).map(lambda x: str_to_date(str(int(x)),st))\n",
    "data['due_in_date'] = pd.Series(data['due_in_date']).map(lambda x: str_to_date(str(int(x)),st))\n",
    "data['document_create_date.1'] = pd.Series(data['document_create_date.1']).map(lambda x: str_to_date(str(int(x)),st))"
   ]
  },
  {
   "cell_type": "code",
   "execution_count": null,
   "metadata": {
    "execution": {
     "iopub.status.busy": "2022-02-18T08:07:28.997561Z",
     "iopub.status.idle": "2022-02-18T08:07:28.998576Z"
    }
   },
   "outputs": [],
   "source": [
    "st = ''\n",
    "test_dataset['baseline_create_date'] = pd.Series(test_dataset['baseline_create_date']).map(lambda x: str_to_date(str(int(x)),st))\n",
    "test_dataset['due_in_date'] = pd.Series(test_dataset['due_in_date']).map(lambda x: str_to_date(str(int(x)),st))\n",
    "test_dataset['document_create_date.1'] = pd.Series(test_dataset['document_create_date.1']).map(lambda x: str_to_date(str(int(x)),st))"
   ]
  },
  {
   "cell_type": "code",
   "execution_count": null,
   "metadata": {
    "execution": {
     "iopub.status.busy": "2022-02-18T08:07:29.000198Z",
     "iopub.status.idle": "2022-02-18T08:07:29.001151Z"
    }
   },
   "outputs": [],
   "source": [
    "dt_lis = ['baseline_create_date','clear_date','due_in_date','document_create_date.1']\n",
    "\n",
    "for col in dt_lis:\n",
    "    data[col] = pd.to_datetime(data[col],format='%Y-%m-%d')\n",
    "data.shape"
   ]
  },
  {
   "cell_type": "code",
   "execution_count": null,
   "metadata": {
    "execution": {
     "iopub.status.busy": "2022-02-18T08:07:29.002967Z",
     "iopub.status.idle": "2022-02-18T08:07:29.003890Z"
    }
   },
   "outputs": [],
   "source": [
    "for col in dt_lis:\n",
    "    test_dataset[col] = pd.to_datetime(test_dataset[col],format='%Y-%m-%d')\n",
    "test_dataset.shape"
   ]
  },
  {
   "cell_type": "markdown",
   "metadata": {},
   "source": [
    "### FILTERING OUT THE QUASI-CONSTANT FEATURES"
   ]
  },
  {
   "cell_type": "code",
   "execution_count": null,
   "metadata": {
    "execution": {
     "iopub.status.busy": "2022-02-18T08:07:29.005586Z",
     "iopub.status.idle": "2022-02-18T08:07:29.006524Z"
    }
   },
   "outputs": [],
   "source": [
    "data.columns"
   ]
  },
  {
   "cell_type": "code",
   "execution_count": null,
   "metadata": {
    "execution": {
     "iopub.status.busy": "2022-02-18T08:07:29.008113Z",
     "iopub.status.idle": "2022-02-18T08:07:29.009108Z"
    }
   },
   "outputs": [],
   "source": [
    "selection = VarianceThreshold(threshold=0.01) # of more that 99% values are same -- we remove the column\n",
    "\n",
    "cols = list(set(data.columns) - (set(dt_lis) | set(['invoice_currency'])))\n",
    "\n",
    "selection.fit(data[cols])\n",
    "\n",
    "print(\"No. of Features that are Quasi-Constant : \",(len(cols) - sum(selection.get_support())))\n",
    "\n",
    "quasi_ = list(selection.get_support())\n",
    "\n",
    "for i in range(len(quasi_)):\n",
    "    if quasi_[i] == False:\n",
    "        print(\"The Quasi-Constant Feature in train data is  :\",cols[i])\n",
    "        data=data.drop(columns=[cols[i]])\n",
    "\n",
    "for i in range(len(quasi_)):\n",
    "    if quasi_[i] == False:\n",
    "        print(\"The Quasi-Constant Feature in test data is  :\",cols[i])\n",
    "        test_dataset=test_dataset.drop(columns=[cols[i]])\n"
   ]
  },
  {
   "cell_type": "markdown",
   "metadata": {},
   "source": [
    "### DROPPING THE COLUMNS WHERE THE DOCUMENT FOR INVOICES ARE CREATED BEFORE THE BASELINE CREATE DATE"
   ]
  },
  {
   "cell_type": "code",
   "execution_count": null,
   "metadata": {
    "execution": {
     "iopub.status.busy": "2022-02-18T08:07:29.010320Z",
     "iopub.status.idle": "2022-02-18T08:07:29.011036Z"
    }
   },
   "outputs": [],
   "source": [
    "temp = pd.Series(data['document_create_date.1'] - data['baseline_create_date']).dt.days"
   ]
  },
  {
   "cell_type": "code",
   "execution_count": null,
   "metadata": {
    "execution": {
     "iopub.status.busy": "2022-02-18T08:07:29.061676Z",
     "iopub.status.idle": "2022-02-18T08:07:29.062878Z"
    }
   },
   "outputs": [],
   "source": [
    "rows_to_drop = temp.value_counts().to_frame(name = 'count')"
   ]
  },
  {
   "cell_type": "code",
   "execution_count": null,
   "metadata": {
    "execution": {
     "iopub.status.busy": "2022-02-18T08:07:29.064657Z",
     "iopub.status.idle": "2022-02-18T08:07:29.065770Z"
    }
   },
   "outputs": [],
   "source": [
    "# No. of rows to drop satisfying the condition\n",
    "rows_to_drop[(rows_to_drop.index <0)].sum()"
   ]
  },
  {
   "cell_type": "code",
   "execution_count": null,
   "metadata": {
    "execution": {
     "iopub.status.busy": "2022-02-18T08:07:29.067416Z",
     "iopub.status.idle": "2022-02-18T08:07:29.068430Z"
    }
   },
   "outputs": [],
   "source": [
    "data = data[((temp==0) | (temp>0))].reset_index(drop=True)"
   ]
  },
  {
   "cell_type": "code",
   "execution_count": null,
   "metadata": {
    "execution": {
     "iopub.status.busy": "2022-02-18T08:07:29.070127Z",
     "iopub.status.idle": "2022-02-18T08:07:29.071032Z"
    }
   },
   "outputs": [],
   "source": [
    "data.shape"
   ]
  },
  {
   "cell_type": "code",
   "execution_count": null,
   "metadata": {
    "execution": {
     "iopub.status.busy": "2022-02-18T08:07:29.072753Z",
     "iopub.status.idle": "2022-02-18T08:07:29.073709Z"
    }
   },
   "outputs": [],
   "source": [
    "data = data.drop(columns = ['document_create_date.1'])"
   ]
  },
  {
   "cell_type": "code",
   "execution_count": null,
   "metadata": {
    "execution": {
     "iopub.status.busy": "2022-02-18T08:07:29.075721Z",
     "iopub.status.idle": "2022-02-18T08:07:29.076859Z"
    }
   },
   "outputs": [],
   "source": [
    "test_dataset = test_dataset.drop(columns = ['document_create_date.1'])"
   ]
  },
  {
   "cell_type": "markdown",
   "metadata": {},
   "source": [
    "### FEATURE ENGINEERING / FEATURE GENERATION"
   ]
  },
  {
   "cell_type": "code",
   "execution_count": null,
   "metadata": {
    "execution": {
     "iopub.status.busy": "2022-02-18T08:07:29.078555Z",
     "iopub.status.idle": "2022-02-18T08:07:29.079593Z"
    }
   },
   "outputs": [],
   "source": [
    "dates_list = ['due_in_date','baseline_create_date'] #payment date is excluded  "
   ]
  },
  {
   "cell_type": "code",
   "execution_count": 4,
   "metadata": {
    "execution": {
     "iopub.execute_input": "2022-02-18T08:07:29.182400Z",
     "iopub.status.busy": "2022-02-18T08:07:29.181732Z",
     "iopub.status.idle": "2022-02-18T08:07:29.202817Z",
     "shell.execute_reply": "2022-02-18T08:07:29.199986Z",
     "shell.execute_reply.started": "2022-02-18T08:07:29.182345Z"
    }
   },
   "outputs": [],
   "source": [
    "data.columns"
   ]
  },
  {
   "cell_type": "code",
   "execution_count": null,
   "metadata": {
    "execution": {
     "iopub.status.busy": "2022-02-18T08:07:29.204313Z",
     "iopub.status.idle": "2022-02-18T08:07:29.205347Z"
    }
   },
   "outputs": [],
   "source": [
    "data['payment_term']=pd.Series(data['clear_date'] - data['baseline_create_date']).dt.days\n",
    "data['due_term']=pd.Series(data['due_in_date'] - data['baseline_create_date']).dt.days\n",
    "data['delay'] = data['payment_term'] - data['due_term']\n",
    "test_dataset['due_term']=pd.Series(test_dataset['due_in_date'] - test_dataset['baseline_create_date']).dt.days"
   ]
  },
  {
   "cell_type": "markdown",
   "metadata": {},
   "source": [
    "### BUCKET COMPUTATION - > BASED ON DUE TERM, PAYMENT TERM , AND DELAY"
   ]
  },
  {
   "cell_type": "code",
   "execution_count": null,
   "metadata": {
    "execution": {
     "iopub.status.busy": "2022-02-18T08:07:29.206871Z",
     "iopub.status.idle": "2022-02-18T08:07:29.207728Z"
    }
   },
   "outputs": [],
   "source": [
    "def bucketization(x):\n",
    "    if x<0:\n",
    "        return('(< 0) Days')\n",
    "    if x in range(0,16):\n",
    "        return('(0-15) Days')\n",
    "    elif x in range(16,31):\n",
    "        return('(16-30) Days')\n",
    "    elif x in range(31,45):\n",
    "        return('(31-45) Days')\n",
    "    elif x in range(45,60):\n",
    "        return('(45-60) Days')\n",
    "    else:\n",
    "        return('(> 60) Days')"
   ]
  },
  {
   "cell_type": "code",
   "execution_count": null,
   "metadata": {
    "execution": {
     "iopub.status.busy": "2022-02-18T08:07:29.209108Z",
     "iopub.status.idle": "2022-02-18T08:07:29.209948Z"
    }
   },
   "outputs": [],
   "source": [
    "gc.collect()\n",
    "\n",
    "data = data.reset_index(drop=True)\n",
    "\n",
    "data['DELAY BUCKET(DAYS)']= pd.Series([bucketization(x=data['delay'][i])  for i in range(len(data))])\n",
    "data['DUE TERM BUCKET(DAYS)']= pd.Series([bucketization(x=data['due_term'][i])  for i in range(len(data))])\n",
    "\n",
    "\n",
    "bucket_mapper = {'(< 0) Days':0,'(0-15) Days':1,'(16-30) Days':2,'(31-45) Days':4,'(45-60) Days':5,'(> 60) Days':6}\n",
    "\n",
    "data['delay_bucket_id'] = data['DELAY BUCKET(DAYS)'].map(bucket_mapper)\n",
    "data['due_term_bucket_id'] = data['DUE TERM BUCKET(DAYS)'].map(bucket_mapper)\n",
    "\n",
    "data.columns"
   ]
  },
  {
   "cell_type": "code",
   "execution_count": null,
   "metadata": {
    "execution": {
     "iopub.status.busy": "2022-02-18T08:07:29.211609Z",
     "iopub.status.idle": "2022-02-18T08:07:29.212415Z"
    }
   },
   "outputs": [],
   "source": [
    "test_dataset = test_dataset.reset_index(drop=True)\n",
    "test_dataset['DUE TERM BUCKET(DAYS)']= pd.Series([bucketization(x=test_dataset['due_term'][i])  for i in range(len(test_dataset))])\n",
    "test_dataset['due_term_bucket_id'] = test_dataset['DUE TERM BUCKET(DAYS)'].map(bucket_mapper)"
   ]
  },
  {
   "cell_type": "code",
   "execution_count": null,
   "metadata": {
    "execution": {
     "iopub.status.busy": "2022-02-18T08:07:29.213855Z",
     "iopub.status.idle": "2022-02-18T08:07:29.214726Z"
    }
   },
   "outputs": [],
   "source": [
    "test_dataset.columns"
   ]
  },
  {
   "cell_type": "markdown",
   "metadata": {},
   "source": [
    "### Grouping on the basis of features: 'cust_number'and generating new features"
   ]
  },
  {
   "cell_type": "code",
   "execution_count": null,
   "metadata": {
    "execution": {
     "iopub.status.busy": "2022-02-18T08:07:29.216111Z",
     "iopub.status.idle": "2022-02-18T08:07:29.216951Z"
    }
   },
   "outputs": [],
   "source": [
    "test_dataset=test_dataset.drop(columns=['clear_date'])"
   ]
  },
  {
   "cell_type": "code",
   "execution_count": null,
   "metadata": {
    "execution": {
     "iopub.status.busy": "2022-02-18T08:07:29.218347Z",
     "iopub.status.idle": "2022-02-18T08:07:29.219298Z"
    }
   },
   "outputs": [],
   "source": [
    "for col1 in ['baseline_create_date','due_in_date']:\n",
    "    data['{}.day'.format(col1)]=data[col1].dt.day\n",
    "    data['{}.year'.format(col1)]=data[col1].dt.year\n",
    "    data['{}.month'.format(col1)]=data[col1].dt.month\n",
    "    test_dataset['{}.day'.format(col1)]=test_dataset[col1].dt.day\n",
    "    test_dataset['{}.year'.format(col1)]=test_dataset[col1].dt.year\n",
    "    test_dataset['{}.month'.format(col1)]=test_dataset[col1].dt.month\n",
    "    test_dataset['{}.day_of_week'.format(col1)]=test_dataset[col1].dt.dayofweek"
   ]
  },
  {
   "cell_type": "code",
   "execution_count": null,
   "metadata": {
    "execution": {
     "iopub.status.busy": "2022-02-18T08:07:29.220687Z",
     "iopub.status.idle": "2022-02-18T08:07:29.221391Z"
    }
   },
   "outputs": [],
   "source": [
    "df1 = data.groupby('cust_number').sum()\n",
    "df = df1.rename(columns = {'total_open_amount':'Sum_base_amount'})['Sum_base_amount']\n",
    "df2 = df1.rename(columns = {'due_term':'Sum_due_term'})['Sum_due_term']\n",
    "\n",
    "data = pd.merge(data,df,on = 'cust_number' )\n",
    "data = pd.merge(data,df2,on = 'cust_number' )\n",
    "\n",
    "df = data.groupby('cust_number').mean()\n",
    "df = df.rename(columns = {'total_open_amount':'mean_base_amount','due_term':'mean_due_term'})\n",
    "data = pd.merge(data,df['mean_base_amount'],on = 'cust_number' )\n",
    "data = pd.merge(data,df['mean_due_term'],on = 'cust_number' )\n",
    "\n",
    "data['amount/mean_amount'] = data['total_open_amount']/data['mean_base_amount']\n",
    "data['amount-/mean_amount'] = (data['total_open_amount']-data['mean_base_amount'])/data['mean_base_amount']\n",
    "data['due_term/amount'] = data['due_term']/data['total_open_amount']\n",
    "data['mean_due_term/amount'] = data['mean_due_term']/data['total_open_amount']\n",
    "data['mean_due_term/Sum_base_amount'] = data['mean_due_term']/data['Sum_base_amount']"
   ]
  },
  {
   "cell_type": "code",
   "execution_count": null,
   "metadata": {
    "execution": {
     "iopub.status.busy": "2022-02-18T08:07:29.222785Z",
     "iopub.status.idle": "2022-02-18T08:07:29.223567Z"
    }
   },
   "outputs": [],
   "source": [
    "df1 = test_dataset.groupby('cust_number').sum()\n",
    "df = df1.rename(columns = {'total_open_amount':'Sum_base_amount'})['Sum_base_amount']\n",
    "df2 = df1.rename(columns = {'due_term':'Sum_due_term'})['Sum_due_term']\n",
    "test_dataset = pd.merge(test_dataset,df,on = 'cust_number' )\n",
    "test_dataset = pd.merge(test_dataset,df2,on = 'cust_number' )\n",
    "\n",
    "df = test_dataset.groupby('cust_number').mean()\n",
    "df = df.rename(columns = {'total_open_amount':'mean_base_amount','due_term':'mean_due_term'})\n",
    "test_dataset = pd.merge(test_dataset,df['mean_base_amount'],on = 'cust_number' )\n",
    "test_dataset = pd.merge(test_dataset,df['mean_due_term'],on = 'cust_number' )\n",
    "\n",
    "test_dataset['amount/mean_amount'] = test_dataset['total_open_amount']/test_dataset['mean_base_amount']\n",
    "test_dataset['amount-/mean_amount'] = (test_dataset['total_open_amount']- test_dataset['mean_base_amount'])/test_dataset['mean_base_amount']\n",
    "test_dataset['due_term/amount'] = test_dataset['due_term']/test_dataset['total_open_amount']\n",
    "test_dataset['mean_due_term/amount'] = test_dataset['mean_due_term']/test_dataset['total_open_amount']\n",
    "test_dataset['mean_due_term/Sum_base_amount'] = test_dataset['mean_due_term']/test_dataset['Sum_base_amount']"
   ]
  },
  {
   "cell_type": "code",
   "execution_count": null,
   "metadata": {
    "execution": {
     "iopub.status.busy": "2022-02-18T08:07:29.261579Z",
     "iopub.status.idle": "2022-02-18T08:07:29.262359Z"
    }
   },
   "outputs": [],
   "source": [
    "df = dict(zip(list(data['cust_number'].value_counts().index),list(data['cust_number'].value_counts())))\n",
    "\n",
    "data['cust_count'] = data['cust_number'].map(df)\n",
    "data['cust_count/mean_amount'] = data['cust_count']/data['mean_base_amount']\n",
    "\n",
    "test_dataset['cust_count'] = test_dataset['cust_number'].map(df)\n",
    "test_dataset['cust_count/mean_amount'] = test_dataset['cust_number']/test_dataset['mean_base_amount']"
   ]
  },
  {
   "cell_type": "markdown",
   "metadata": {},
   "source": [
    "### Sorting the dataframe according to the'baseline_create_date'"
   ]
  },
  {
   "cell_type": "code",
   "execution_count": null,
   "metadata": {
    "execution": {
     "iopub.status.busy": "2022-02-18T08:07:29.264136Z",
     "iopub.status.idle": "2022-02-18T08:07:29.265072Z"
    }
   },
   "outputs": [],
   "source": [
    "data = data.sort_values(['baseline_create_date']).reset_index(drop=True)\n",
    "data['cust_count*due_term/amount'] =(data['cust_count']*data['due_term'])/data['total_open_amount']"
   ]
  },
  {
   "cell_type": "code",
   "execution_count": null,
   "metadata": {
    "execution": {
     "iopub.status.busy": "2022-02-18T08:07:29.266644Z",
     "iopub.status.idle": "2022-02-18T08:07:29.267586Z"
    }
   },
   "outputs": [],
   "source": [
    "test_dataset = test_dataset.sort_values(['baseline_create_date']).reset_index(drop=True)\n",
    "test_dataset['cust_count*due_term/amount'] =(test_dataset['cust_count']*test_dataset['due_term'])/test_dataset['total_open_amount']"
   ]
  },
  {
   "cell_type": "code",
   "execution_count": null,
   "metadata": {
    "execution": {
     "iopub.status.busy": "2022-02-18T08:07:29.269002Z",
     "iopub.status.idle": "2022-02-18T08:07:29.269872Z"
    }
   },
   "outputs": [],
   "source": [
    "data.isnull().sum()"
   ]
  },
  {
   "cell_type": "markdown",
   "metadata": {},
   "source": [
    " ### MANIPULATING THE 'AMOUNT COLUMN - CONVERTING TO USD\n",
    "##### CAD -> CANADIAN DOLLAR \n",
    "##### USD -> US DOLLAR \n",
    "\n",
    "##### Convertion:\n",
    "\n",
    "##### 1 CAD = 0.79 USD"
   ]
  },
  {
   "cell_type": "code",
   "execution_count": null,
   "metadata": {
    "execution": {
     "iopub.status.busy": "2022-02-18T08:07:29.271461Z",
     "iopub.status.idle": "2022-02-18T08:07:29.272336Z"
    }
   },
   "outputs": [],
   "source": [
    "x = data[data['invoice_currency']=='CAD']['total_open_amount'].map(lambda x: x*0.79)    \n",
    "\n",
    "for i in x.index:\n",
    "    data['total_open_amount'][i] = 0.79*x[i]\n",
    "\n",
    "\n",
    "data = data.drop(columns=['invoice_currency'])\n",
    "\n",
    "x = test_dataset[test_dataset['invoice_currency']=='CAD']['total_open_amount'].map(lambda x: x*0.79)    \n",
    "\n",
    "for i in x.index:\n",
    "    test_dataset['total_open_amount'][i] = 0.79*x[i]\n",
    "test_dataset = test_dataset.drop(columns=['invoice_currency'])  "
   ]
  },
  {
   "cell_type": "code",
   "execution_count": null,
   "metadata": {
    "execution": {
     "iopub.status.busy": "2022-02-18T08:07:29.273781Z",
     "iopub.status.idle": "2022-02-18T08:07:29.274698Z"
    }
   },
   "outputs": [],
   "source": [
    "test_dataset = test_dataset.sort_values(['baseline_create_date']).reset_index(drop=True)\n",
    "test_dataset"
   ]
  },
  {
   "cell_type": "code",
   "execution_count": null,
   "metadata": {
    "execution": {
     "iopub.status.busy": "2022-02-18T08:07:29.276266Z",
     "iopub.status.idle": "2022-02-18T08:07:29.277212Z"
    }
   },
   "outputs": [],
   "source": [
    "cols_drop1 = set(data.columns) - set(test_dataset.columns)\n",
    "cols_drop1"
   ]
  },
  {
   "cell_type": "code",
   "execution_count": null,
   "metadata": {
    "execution": {
     "iopub.status.busy": "2022-02-18T08:07:29.278803Z",
     "iopub.status.idle": "2022-02-18T08:07:29.279777Z"
    }
   },
   "outputs": [],
   "source": [
    "data.corr()['payment_term']"
   ]
  },
  {
   "cell_type": "code",
   "execution_count": null,
   "metadata": {
    "execution": {
     "iopub.status.busy": "2022-02-18T08:07:29.281228Z",
     "iopub.status.idle": "2022-02-18T08:07:29.282145Z"
    }
   },
   "outputs": [],
   "source": [
    "# Dropping the date columns\n",
    "\n",
    "#data = data.drop(columns = ['clear_date', 'due_in_date','baseline_create_date'])\n",
    "#test_dataset = test_dataset.drop(columns = ['due_in_date','baseline_create_date'])"
   ]
  },
  {
   "cell_type": "markdown",
   "metadata": {},
   "source": [
    "#### LOG TRANSFORMATION OF 'total_open_amount'"
   ]
  },
  {
   "cell_type": "code",
   "execution_count": null,
   "metadata": {
    "execution": {
     "iopub.status.busy": "2022-02-18T08:07:29.283743Z",
     "iopub.status.idle": "2022-02-18T08:07:29.284784Z"
    }
   },
   "outputs": [],
   "source": [
    "data['total_open_amount'] = np.log(data['total_open_amount'])"
   ]
  },
  {
   "cell_type": "code",
   "execution_count": null,
   "metadata": {
    "execution": {
     "iopub.status.busy": "2022-02-18T08:07:29.286233Z",
     "iopub.status.idle": "2022-02-18T08:07:29.287149Z"
    }
   },
   "outputs": [],
   "source": [
    "test_dataset['total_open_amount'] = np.log(test_dataset['total_open_amount'])"
   ]
  },
  {
   "cell_type": "code",
   "execution_count": null,
   "metadata": {
    "execution": {
     "iopub.status.busy": "2022-02-18T08:07:29.288624Z",
     "iopub.status.idle": "2022-02-18T08:07:29.289516Z"
    }
   },
   "outputs": [],
   "source": [
    "# Looking For the values of categorical features which are diffrent from train data\n",
    "list_cust_details = ['cust_number','business_code','cust_payment_terms']\n",
    "\n",
    "for col in list_cust_details:\n",
    "    coun = 0\n",
    "    for i in range(len(test_dataset)):\n",
    "        if test_dataset[col][i] in set(test_dataset[col])-set(data[col]):\n",
    "            coun+=1\n",
    "    print(\"\\n\\n\\nColumn Name:    \",col,\"\\nTotal Unique Values in train-set:     \",data[col].nunique(),\"\\nNew Valuess introduced in Test:     \",len(set(test_dataset[col].unique()) - set(data[col].unique())),\"\\nValues are:\",set(test_dataset[col])-set(data[col]),\"\\nCount :\",coun)"
   ]
  },
  {
   "cell_type": "code",
   "execution_count": null,
   "metadata": {
    "execution": {
     "iopub.status.busy": "2022-02-18T08:07:29.291228Z",
     "iopub.status.idle": "2022-02-18T08:07:29.292158Z"
    }
   },
   "outputs": [],
   "source": [
    "data.columns"
   ]
  },
  {
   "cell_type": "code",
   "execution_count": null,
   "metadata": {
    "execution": {
     "iopub.status.busy": "2022-02-18T08:07:29.293607Z",
     "iopub.status.idle": "2022-02-18T08:07:29.294588Z"
    }
   },
   "outputs": [],
   "source": [
    "gc.collect()"
   ]
  },
  {
   "cell_type": "markdown",
   "metadata": {},
   "source": [
    "### CORRELATION MATRIX"
   ]
  },
  {
   "cell_type": "code",
   "execution_count": null,
   "metadata": {
    "execution": {
     "iopub.status.busy": "2022-02-18T08:07:29.296067Z",
     "iopub.status.idle": "2022-02-18T08:07:29.297055Z"
    }
   },
   "outputs": [],
   "source": [
    "d_corr=data.corr()\n",
    "d_corr"
   ]
  },
  {
   "cell_type": "markdown",
   "metadata": {},
   "source": [
    "### COVARIANCE MATRIX"
   ]
  },
  {
   "cell_type": "code",
   "execution_count": null,
   "metadata": {
    "execution": {
     "iopub.status.busy": "2022-02-18T08:07:29.298507Z",
     "iopub.status.idle": "2022-02-18T08:07:29.299380Z"
    }
   },
   "outputs": [],
   "source": [
    "data.cov()"
   ]
  },
  {
   "cell_type": "markdown",
   "metadata": {},
   "source": [
    "### PIE PLOT"
   ]
  },
  {
   "cell_type": "code",
   "execution_count": null,
   "metadata": {
    "execution": {
     "iopub.status.busy": "2022-02-18T08:07:29.300841Z",
     "iopub.status.idle": "2022-02-18T08:07:29.301815Z"
    },
    "scrolled": true
   },
   "outputs": [],
   "source": [
    "for col in ['business_code','cust_payment_terms', 'delay_bucket_id','due_term_bucket_id']:\n",
    "    plt.style.use('classic')\n",
    "    fig,ax = plt.subplots(figsize=(10,10))\n",
    "    plt.pie(data[col].value_counts(),labels=data[col].unique(),shadow=True,autopct='%1.1f%%')\n",
    "    plt.title('\\nCount of {}'.format(col))\n",
    "    plt.show()"
   ]
  },
  {
   "cell_type": "markdown",
   "metadata": {},
   "source": [
    " #### BAR PLOT"
   ]
  },
  {
   "cell_type": "code",
   "execution_count": null,
   "metadata": {
    "execution": {
     "iopub.status.busy": "2022-02-18T08:07:29.303312Z",
     "iopub.status.idle": "2022-02-18T08:07:29.304237Z"
    },
    "scrolled": true
   },
   "outputs": [],
   "source": [
    "features = ['business_code','cust_payment_terms', 'delay_bucket_id','due_term_bucket_id']\n",
    "\n",
    "for col in features:\n",
    "    plt.style.use('dark_background')\n",
    "    fig,ax = plt.subplots(figsize=(10,8))\n",
    "    plt.bar(list(data[col].value_counts().index),list(data[col].value_counts()),color = random.sample(['maroon','yellow'],1))            \n",
    "    plt.title('\\nCount of {}'.format(col))\n",
    "    plt.figure(figsize=(20,20))\n",
    "    plt.show()"
   ]
  },
  {
   "cell_type": "markdown",
   "metadata": {},
   "source": [
    "#### BOX PLOT "
   ]
  },
  {
   "cell_type": "code",
   "execution_count": null,
   "metadata": {
    "execution": {
     "iopub.status.busy": "2022-02-18T08:07:29.305846Z",
     "iopub.status.idle": "2022-02-18T08:07:29.307090Z"
    },
    "scrolled": true
   },
   "outputs": [],
   "source": [
    "features = ['business_code','cust_payment_terms', 'delay_bucket_id','due_term_bucket_id']\n",
    "\n",
    "for col in features:\n",
    "    plt.style.use('dark_background')\n",
    "    seaborn.boxplot(data[col],color='maroon',notch=True)\n",
    "    plt.title('Box Plot of {}'.format(col))\n",
    "    plt.figure(figsize=(20,20))\n",
    "    plt.show()"
   ]
  },
  {
   "cell_type": "markdown",
   "metadata": {},
   "source": []
  },
  {
   "cell_type": "markdown",
   "metadata": {},
   "source": []
  },
  {
   "cell_type": "markdown",
   "metadata": {},
   "source": []
  },
  {
   "cell_type": "markdown",
   "metadata": {},
   "source": [
    "#### Scatter Plot"
   ]
  },
  {
   "cell_type": "code",
   "execution_count": null,
   "metadata": {
    "execution": {
     "iopub.status.busy": "2022-02-18T08:07:29.308810Z",
     "iopub.status.idle": "2022-02-18T08:07:29.309879Z"
    }
   },
   "outputs": [],
   "source": [
    "data.columns"
   ]
  },
  {
   "cell_type": "markdown",
   "metadata": {},
   "source": [
    "#### Scatter Plot"
   ]
  },
  {
   "cell_type": "code",
   "execution_count": null,
   "metadata": {
    "execution": {
     "iopub.status.busy": "2022-02-18T08:07:29.362561Z",
     "iopub.status.idle": "2022-02-18T08:07:29.363704Z"
    },
    "scrolled": true
   },
   "outputs": [],
   "source": [
    "x_val = ['cust_number','business_code', 'total_open_amount', 'cust_payment_terms']\n",
    "y_val = 'payment_term'\n",
    "for col in x_val:\n",
    "    plt.scatter(data[col],data['delay'],color=random.sample(['yellow','maroon'],1),linewidth = .5)\n",
    "    plt.title('{} V/S {}'.format(col,y_val))\n",
    "    plt.xlabel(col)\n",
    "    plt.ylabel(y_val)\n",
    "    plt.show()"
   ]
  },
  {
   "cell_type": "code",
   "execution_count": null,
   "metadata": {
    "execution": {
     "iopub.status.busy": "2022-02-18T08:07:29.365508Z",
     "iopub.status.idle": "2022-02-18T08:07:29.372179Z"
    }
   },
   "outputs": [],
   "source": [
    "data.nunique()"
   ]
  },
  {
   "cell_type": "markdown",
   "metadata": {},
   "source": [
    "#### DISTRIBUTION PLOTS"
   ]
  },
  {
   "cell_type": "code",
   "execution_count": null,
   "metadata": {
    "execution": {
     "iopub.status.busy": "2022-02-18T08:07:29.374227Z",
     "iopub.status.idle": "2022-02-18T08:07:29.375573Z"
    },
    "scrolled": true
   },
   "outputs": [],
   "source": [
    "for col in list(set(data.columns) - set(['DELAY BUCKET(DAYS)' ,'DUE TERM BUCKET(DAYS)'])):\n",
    "    seaborn.distplot(data[col],color='maroon')\n",
    "    plt.show()"
   ]
  },
  {
   "cell_type": "code",
   "execution_count": null,
   "metadata": {
    "execution": {
     "iopub.status.busy": "2022-02-18T08:07:29.377469Z",
     "iopub.status.idle": "2022-02-18T08:07:29.378764Z"
    }
   },
   "outputs": [],
   "source": [
    "data_copy = data.copy()\n",
    "test_dataset_copy = test_dataset.copy()"
   ]
  },
  {
   "cell_type": "markdown",
   "metadata": {},
   "source": [
    " ### OUTLIER DETECTION AND REMOVAL"
   ]
  },
  {
   "cell_type": "markdown",
   "metadata": {},
   "source": [
    "clear_date-due_in_date(Payment term) > 100\n",
    "\n",
    "\n",
    "15 > total_open_amount > 1 \n",
    "\n",
    "\n",
    "-45 < delay <50\n",
    "\n",
    "\n",
    "custumer_num  >50"
   ]
  },
  {
   "cell_type": "code",
   "execution_count": null,
   "metadata": {
    "execution": {
     "iopub.status.busy": "2022-02-18T08:07:29.383845Z",
     "iopub.status.idle": "2022-02-18T08:07:29.385027Z"
    }
   },
   "outputs": [],
   "source": [
    "data.describe()"
   ]
  },
  {
   "cell_type": "code",
   "execution_count": null,
   "metadata": {
    "execution": {
     "iopub.status.busy": "2022-02-18T08:07:29.386769Z",
     "iopub.status.idle": "2022-02-18T08:07:29.387900Z"
    }
   },
   "outputs": [],
   "source": [
    "pay_max = 80\n",
    "data[data['payment_term']>=pay_max]['payment_term'].value_counts().sum()"
   ]
  },
  {
   "cell_type": "code",
   "execution_count": null,
   "metadata": {
    "execution": {
     "iopub.status.busy": "2022-02-18T08:07:29.390423Z",
     "iopub.status.idle": "2022-02-18T08:07:29.395554Z"
    }
   },
   "outputs": [],
   "source": [
    "data = data[(data['total_open_amount'] > 1) & (data['payment_term']<=pay_max )].reset_index(drop=True)"
   ]
  },
  {
   "cell_type": "code",
   "execution_count": null,
   "metadata": {
    "execution": {
     "iopub.status.busy": "2022-02-18T08:07:29.397270Z",
     "iopub.status.idle": "2022-02-18T08:07:29.398369Z"
    }
   },
   "outputs": [],
   "source": [
    "data.shape"
   ]
  },
  {
   "cell_type": "code",
   "execution_count": 5,
   "metadata": {
    "execution": {
     "iopub.execute_input": "2022-02-18T08:07:29.507040Z",
     "iopub.status.busy": "2022-02-18T08:07:29.506582Z",
     "iopub.status.idle": "2022-02-18T08:07:29.547856Z",
     "shell.execute_reply": "2022-02-18T08:07:29.545235Z",
     "shell.execute_reply.started": "2022-02-18T08:07:29.506997Z"
    }
   },
   "outputs": [],
   "source": [
    "test_dataset.shape"
   ]
  },
  {
   "cell_type": "markdown",
   "metadata": {},
   "source": [
    "#### Distribution after removing outliers"
   ]
  },
  {
   "cell_type": "code",
   "execution_count": null,
   "metadata": {
    "execution": {
     "iopub.status.busy": "2022-02-18T08:07:29.549243Z",
     "iopub.status.idle": "2022-02-18T08:07:29.549912Z"
    }
   },
   "outputs": [],
   "source": [
    "for col in list(set(data.columns) - set(['DELAY BUCKET(DAYS)' ,'DUE TERM BUCKET(DAYS)'])):\n",
    "    seaborn.distplot(data[col],color='maroon')\n",
    "    plt.show()"
   ]
  },
  {
   "cell_type": "markdown",
   "metadata": {},
   "source": [
    "###  Diffrent Features"
   ]
  },
  {
   "cell_type": "code",
   "execution_count": null,
   "metadata": {
    "execution": {
     "iopub.status.busy": "2022-02-18T08:07:29.551385Z",
     "iopub.status.idle": "2022-02-18T08:07:29.552087Z"
    },
    "scrolled": true
   },
   "outputs": [],
   "source": [
    "print(list(data.columns))\n",
    "print(\"\\n\\n\",len(list(data.columns)))"
   ]
  },
  {
   "cell_type": "code",
   "execution_count": null,
   "metadata": {
    "execution": {
     "iopub.status.busy": "2022-02-18T08:07:29.555330Z",
     "iopub.status.idle": "2022-02-18T08:07:29.564129Z"
    }
   },
   "outputs": [],
   "source": [
    "categorical_features = ['business_code', 'cust_payment_terms','due_term_bucket_id']"
   ]
  },
  {
   "cell_type": "code",
   "execution_count": null,
   "metadata": {
    "execution": {
     "iopub.status.busy": "2022-02-18T08:07:29.565387Z",
     "iopub.status.idle": "2022-02-18T08:07:29.566029Z"
    }
   },
   "outputs": [],
   "source": [
    "numerical_features = list(set(set(data.columns) - set(['DELAY BUCKET(DAYS)', 'DUE TERM BUCKET(DAYS)', 'delay_bucket_id', 'due_term_bucket_id','clear_date', 'due_in_date', 'baseline_create_date'])) - set(categorical_features))"
   ]
  },
  {
   "cell_type": "code",
   "execution_count": null,
   "metadata": {
    "execution": {
     "iopub.status.busy": "2022-02-18T08:07:29.567158Z",
     "iopub.status.idle": "2022-02-18T08:07:29.567982Z"
    }
   },
   "outputs": [],
   "source": [
    "len(numerical_features)"
   ]
  },
  {
   "cell_type": "code",
   "execution_count": null,
   "metadata": {
    "execution": {
     "iopub.status.busy": "2022-02-18T08:07:29.571515Z",
     "iopub.status.idle": "2022-02-18T08:07:29.572153Z"
    }
   },
   "outputs": [],
   "source": [
    "len(categorical_features)                                               "
   ]
  },
  {
   "cell_type": "markdown",
   "metadata": {},
   "source": [
    "###  Scaling the Numerical features"
   ]
  },
  {
   "cell_type": "code",
   "execution_count": null,
   "metadata": {
    "execution": {
     "iopub.status.busy": "2022-02-18T08:07:29.575599Z",
     "iopub.status.idle": "2022-02-18T08:07:29.576208Z"
    }
   },
   "outputs": [],
   "source": [
    "infos_df = data[['clear_date', 'due_in_date', 'baseline_create_date','total_open_amount']]"
   ]
  },
  {
   "cell_type": "code",
   "execution_count": null,
   "metadata": {
    "execution": {
     "iopub.status.busy": "2022-02-18T08:07:29.580240Z",
     "iopub.status.idle": "2022-02-18T08:07:29.580931Z"
    }
   },
   "outputs": [],
   "source": [
    "train_num = data[list(set(numerical_features)   -  set(['payment_term','delay']))]\n",
    "test_num = test_dataset[list(set(numerical_features)   -  set(['payment_term','delay']))]\n",
    "train_cat = data[categorical_features]\n",
    "test_cat = test_dataset[list(set(categorical_features))]"
   ]
  },
  {
   "cell_type": "code",
   "execution_count": null,
   "metadata": {
    "execution": {
     "iopub.status.busy": "2022-02-18T08:07:29.582153Z",
     "iopub.status.idle": "2022-02-18T08:07:29.582780Z"
    }
   },
   "outputs": [],
   "source": [
    "scaler = MinMaxScaler()\n",
    "y_scaler = MinMaxScaler()\n",
    "final_train_n = pd.DataFrame(scaler.fit_transform(train_num[list(set(numerical_features)-set(['payment_term','delay']))]),columns=list(set(numerical_features)-set(['payment_term','delay'])))\n",
    "final_test_n = pd.DataFrame(scaler.fit_transform(test_num),columns=list(set(numerical_features)-set(['payment_term','delay'])))\n",
    "data['delay'] = y_scaler.fit_transform(np.array(data['delay']).reshape(data['delay'].shape[0],1))"
   ]
  },
  {
   "cell_type": "code",
   "execution_count": null,
   "metadata": {
    "execution": {
     "iopub.status.busy": "2022-02-18T08:07:29.587083Z",
     "iopub.status.idle": "2022-02-18T08:07:29.587767Z"
    }
   },
   "outputs": [],
   "source": [
    "num_cols = final_train_n.columns"
   ]
  },
  {
   "cell_type": "code",
   "execution_count": null,
   "metadata": {
    "execution": {
     "iopub.status.busy": "2022-02-18T08:07:29.592110Z",
     "iopub.status.idle": "2022-02-18T08:07:29.592823Z"
    }
   },
   "outputs": [],
   "source": [
    "final_train_n=pd.merge(final_train_n,data['cust_number'],left_index=True,right_index=True)\n",
    "final_test_n=pd.merge(final_test_n,test_dataset['cust_number'],left_index=True,right_index=True)"
   ]
  },
  {
   "cell_type": "code",
   "execution_count": null,
   "metadata": {
    "execution": {
     "iopub.status.busy": "2022-02-18T08:07:29.596142Z",
     "iopub.status.idle": "2022-02-18T08:07:29.596819Z"
    }
   },
   "outputs": [],
   "source": [
    "final_test_n=pd.merge(final_test_n,infos_df.drop(columns = ['clear_date']),left_index=True,right_index=True)"
   ]
  },
  {
   "cell_type": "code",
   "execution_count": 6,
   "metadata": {
    "execution": {
     "iopub.execute_input": "2022-02-18T08:07:29.700083Z",
     "iopub.status.busy": "2022-02-18T08:07:29.699229Z",
     "iopub.status.idle": "2022-02-18T08:07:29.732835Z",
     "shell.execute_reply": "2022-02-18T08:07:29.730855Z",
     "shell.execute_reply.started": "2022-02-18T08:07:29.700032Z"
    }
   },
   "outputs": [],
   "source": [
    "final_train_n=pd.merge(final_train_n,infos_df,left_index=True,right_index=True)"
   ]
  },
  {
   "cell_type": "code",
   "execution_count": null,
   "metadata": {
    "execution": {
     "iopub.status.busy": "2022-02-18T08:07:29.734734Z",
     "iopub.status.idle": "2022-02-18T08:07:29.741117Z"
    }
   },
   "outputs": [],
   "source": [
    "final_test_n.shape"
   ]
  },
  {
   "cell_type": "code",
   "execution_count": null,
   "metadata": {
    "execution": {
     "iopub.status.busy": "2022-02-18T08:07:29.743202Z",
     "iopub.status.idle": "2022-02-18T08:07:29.744259Z"
    }
   },
   "outputs": [],
   "source": [
    "final_train_n.shape"
   ]
  },
  {
   "cell_type": "markdown",
   "metadata": {},
   "source": [
    "#### One-Hot Encoding the Categorical Data"
   ]
  },
  {
   "cell_type": "code",
   "execution_count": null,
   "metadata": {
    "execution": {
     "iopub.status.busy": "2022-02-18T08:07:29.745818Z",
     "iopub.status.idle": "2022-02-18T08:07:29.752568Z"
    }
   },
   "outputs": [],
   "source": [
    "data_cat=pd.concat((train_cat,test_cat),sort=False).reset_index(drop=True)\n",
    "data_cat"
   ]
  },
  {
   "cell_type": "code",
   "execution_count": null,
   "metadata": {
    "execution": {
     "iopub.status.busy": "2022-02-18T08:07:29.754272Z",
     "iopub.status.idle": "2022-02-18T08:07:29.755218Z"
    }
   },
   "outputs": [],
   "source": [
    "data_cat1 = pd.get_dummies(data_cat,prefix='enc_c_',columns = ['business_code'],drop_first=False)\n",
    "data_cat2 = pd.get_dummies(data_cat,prefix='enc_c___',columns = ['cust_payment_terms'],drop_first=False)\n",
    "data_cat1 = pd.merge(data_cat1,data_cat2,left_index=True,right_index=True)\n",
    "data_cat2 = pd.get_dummies(data_cat,prefix='enc_c',columns = ['due_term_bucket_id'],drop_first=False)\n",
    "data_cat1 = pd.merge(data_cat1,data_cat2,left_index=True,right_index=True)\n",
    "\n",
    "data_cat1 = data_cat1.drop(columns =['cust_payment_terms_x', 'due_term_bucket_id_x','due_term_bucket_id_y','business_code_y','cust_payment_terms_y','business_code_x'])    "
   ]
  },
  {
   "cell_type": "code",
   "execution_count": null,
   "metadata": {
    "execution": {
     "iopub.status.busy": "2022-02-18T08:07:29.756713Z",
     "iopub.status.idle": "2022-02-18T08:07:29.757620Z"
    }
   },
   "outputs": [],
   "source": [
    "data[['business_code','cust_payment_terms','due_term_bucket_id']].nunique().sum()"
   ]
  },
  {
   "cell_type": "code",
   "execution_count": null,
   "metadata": {
    "execution": {
     "iopub.status.busy": "2022-02-18T08:07:29.759073Z",
     "iopub.status.idle": "2022-02-18T08:07:29.762508Z"
    }
   },
   "outputs": [],
   "source": [
    "data_cat1.columns"
   ]
  },
  {
   "cell_type": "code",
   "execution_count": null,
   "metadata": {
    "execution": {
     "iopub.status.busy": "2022-02-18T08:07:29.764033Z",
     "iopub.status.idle": "2022-02-18T08:07:29.764935Z"
    }
   },
   "outputs": [],
   "source": [
    "final_train_c = data_cat1[:data.shape[0]].reset_index(drop=True)\n",
    "final_test_c = data_cat1[data.shape[0]:].reset_index(drop=True)"
   ]
  },
  {
   "cell_type": "code",
   "execution_count": null,
   "metadata": {
    "execution": {
     "iopub.status.busy": "2022-02-18T08:07:29.773402Z",
     "iopub.status.idle": "2022-02-18T08:07:29.774485Z"
    }
   },
   "outputs": [],
   "source": [
    "#final_train_c = train_cat\n",
    "#final_test_c = test_cat"
   ]
  },
  {
   "cell_type": "code",
   "execution_count": null,
   "metadata": {
    "execution": {
     "iopub.status.busy": "2022-02-18T08:07:29.775948Z",
     "iopub.status.idle": "2022-02-18T08:07:29.776812Z"
    }
   },
   "outputs": [],
   "source": [
    "final_train_c.shape"
   ]
  },
  {
   "cell_type": "code",
   "execution_count": null,
   "metadata": {
    "execution": {
     "iopub.status.busy": "2022-02-18T08:07:29.778232Z",
     "iopub.status.idle": "2022-02-18T08:07:29.779248Z"
    }
   },
   "outputs": [],
   "source": [
    "final_test_c.shape"
   ]
  },
  {
   "cell_type": "markdown",
   "metadata": {},
   "source": [
    "### Merging the Numerical, Categorical and Numerical-Categorical Data"
   ]
  },
  {
   "cell_type": "code",
   "execution_count": null,
   "metadata": {
    "execution": {
     "iopub.status.busy": "2022-02-18T08:07:29.780725Z",
     "iopub.status.idle": "2022-02-18T08:07:29.782598Z"
    }
   },
   "outputs": [],
   "source": [
    "test_data = final_test_n.merge(final_test_c.reset_index(drop=True),left_index=True,right_index=True)\n",
    "#test_data = test_data.merge(final_test_c.reset_index(drop=True),left_index=True,right_index=True)\n",
    "test_data"
   ]
  },
  {
   "cell_type": "code",
   "execution_count": null,
   "metadata": {
    "execution": {
     "iopub.status.busy": "2022-02-18T08:07:29.791008Z",
     "iopub.status.idle": "2022-02-18T08:07:29.792149Z"
    }
   },
   "outputs": [],
   "source": [
    "train_data = final_train_n.merge(final_train_c.reset_index(drop=True),left_index=True,right_index=True)\n",
    "train_data = train_data.merge(data['delay'].reset_index(drop=True),left_index=True,right_index=True)\n",
    "train_data"
   ]
  },
  {
   "cell_type": "code",
   "execution_count": 7,
   "metadata": {
    "execution": {
     "iopub.execute_input": "2022-02-18T08:07:29.899738Z",
     "iopub.status.busy": "2022-02-18T08:07:29.898776Z",
     "iopub.status.idle": "2022-02-18T08:07:29.937164Z",
     "shell.execute_reply": "2022-02-18T08:07:29.931837Z",
     "shell.execute_reply.started": "2022-02-18T08:07:29.899676Z"
    }
   },
   "outputs": [],
   "source": [
    "set(train_data.columns) - set(test_data.columns)"
   ]
  },
  {
   "cell_type": "markdown",
   "metadata": {},
   "source": [
    "### GENERATING THE TEST-TRAIN-EVALUATION DATA"
   ]
  },
  {
   "cell_type": "code",
   "execution_count": null,
   "metadata": {
    "execution": {
     "iopub.status.busy": "2022-02-18T08:07:29.938663Z",
     "iopub.status.idle": "2022-02-18T08:07:29.939455Z"
    }
   },
   "outputs": [],
   "source": [
    "train_data = train_data.copy()\n",
    "data_copy = data.copy()"
   ]
  },
  {
   "cell_type": "code",
   "execution_count": null,
   "metadata": {
    "execution": {
     "iopub.status.busy": "2022-02-18T08:07:29.945260Z",
     "iopub.status.idle": "2022-02-18T08:07:29.949424Z"
    }
   },
   "outputs": [],
   "source": [
    "x_data = train_data[set(train_data.columns) - set(['delay'])]\n",
    "x_data.shape"
   ]
  },
  {
   "cell_type": "code",
   "execution_count": null,
   "metadata": {
    "execution": {
     "iopub.status.busy": "2022-02-18T08:07:29.951428Z",
     "iopub.status.idle": "2022-02-18T08:07:29.956050Z"
    }
   },
   "outputs": [],
   "source": [
    "x_test = test_data[set(test_data.columns) - set(['delay'])]\n",
    "x_test.shape"
   ]
  },
  {
   "cell_type": "code",
   "execution_count": null,
   "metadata": {
    "execution": {
     "iopub.status.busy": "2022-02-18T08:07:29.961961Z",
     "iopub.status.idle": "2022-02-18T08:07:29.965107Z"
    }
   },
   "outputs": [],
   "source": [
    "y_data = train_data['delay']\n",
    "y_data.shape"
   ]
  },
  {
   "cell_type": "code",
   "execution_count": null,
   "metadata": {
    "execution": {
     "iopub.status.busy": "2022-02-18T08:07:29.969694Z",
     "iopub.status.idle": "2022-02-18T08:07:29.970987Z"
    }
   },
   "outputs": [],
   "source": [
    "eval_range = (math.ceil(data.shape[0]*(0.25)))+1\n",
    "x_train,x_eval,y_train,y_eval = x_data[eval_range:].reset_index(drop=True),x_data[0:eval_range].reset_index(drop=True),y_data[eval_range:].reset_index(drop=True),y_data[0:eval_range].reset_index(drop=True)       "
   ]
  },
  {
   "cell_type": "code",
   "execution_count": null,
   "metadata": {
    "execution": {
     "iopub.status.busy": "2022-02-18T08:07:29.972483Z",
     "iopub.status.idle": "2022-02-18T08:07:29.973317Z"
    }
   },
   "outputs": [],
   "source": [
    "eval_range = (math.ceil(x_eval.shape[0]*(0.4)))+1\n",
    "x_eval1,x_eval2,y_eval1,y_eval2 = x_eval[eval_range:].reset_index(drop=True),x_eval[0:eval_range].reset_index(drop=True),y_eval[eval_range:].reset_index(drop=True),y_eval[0:eval_range].reset_index(drop=True)"
   ]
  },
  {
   "cell_type": "code",
   "execution_count": null,
   "metadata": {
    "execution": {
     "iopub.status.busy": "2022-02-18T08:07:29.981636Z",
     "iopub.status.idle": "2022-02-18T08:07:29.982544Z"
    }
   },
   "outputs": [],
   "source": [
    "x_eval1.columns"
   ]
  },
  {
   "cell_type": "code",
   "execution_count": null,
   "metadata": {
    "execution": {
     "iopub.status.busy": "2022-02-18T08:07:29.983776Z",
     "iopub.status.idle": "2022-02-18T08:07:29.984542Z"
    }
   },
   "outputs": [],
   "source": [
    "x_train_info = x_train[['clear_date','total_open_amount_y','cust_number_y','baseline_create_date','due_in_date']]\n",
    "x_eval1_info = x_eval1[['clear_date','total_open_amount_y','cust_number_y','baseline_create_date','due_in_date']]\n",
    "x_eval2_info = x_eval2[['clear_date','total_open_amount_y','cust_number_y','baseline_create_date','due_in_date']]\n",
    "x_test_info = x_test[['total_open_amount_y','cust_number_y','baseline_create_date','due_in_date']]\n",
    "\n",
    "x_train = x_train.drop(columns=['clear_date','baseline_create_date','due_in_date'])\n",
    "x_eval1 = x_eval1.drop(columns=['clear_date','baseline_create_date','due_in_date'])\n",
    "x_eval2 = x_eval2.drop(columns=['clear_date','baseline_create_date','due_in_date'])\n",
    "x_test = x_test.drop(columns=['baseline_create_date','due_in_date'])"
   ]
  },
  {
   "cell_type": "code",
   "execution_count": null,
   "metadata": {
    "execution": {
     "iopub.status.busy": "2022-02-18T08:07:29.985700Z",
     "iopub.status.idle": "2022-02-18T08:07:29.986423Z"
    }
   },
   "outputs": [],
   "source": [
    "x_train.shape,y_train.shape"
   ]
  },
  {
   "cell_type": "code",
   "execution_count": null,
   "metadata": {
    "execution": {
     "iopub.status.busy": "2022-02-18T08:07:29.987586Z",
     "iopub.status.idle": "2022-02-18T08:07:29.995068Z"
    }
   },
   "outputs": [],
   "source": [
    "x_eval1.shape,y_eval1.shape"
   ]
  },
  {
   "cell_type": "code",
   "execution_count": null,
   "metadata": {
    "execution": {
     "iopub.status.busy": "2022-02-18T08:07:29.996453Z",
     "iopub.status.idle": "2022-02-18T08:07:29.997243Z"
    }
   },
   "outputs": [],
   "source": [
    "x_eval2.shape,y_eval2.shape"
   ]
  },
  {
   "cell_type": "code",
   "execution_count": null,
   "metadata": {
    "execution": {
     "iopub.status.busy": "2022-02-18T08:07:29.998418Z",
     "iopub.status.idle": "2022-02-18T08:07:29.999161Z"
    }
   },
   "outputs": [],
   "source": [
    "x_test.shape"
   ]
  },
  {
   "cell_type": "code",
   "execution_count": null,
   "metadata": {
    "execution": {
     "iopub.status.busy": "2022-02-18T08:07:30.000605Z",
     "iopub.status.idle": "2022-02-18T08:07:30.001385Z"
    }
   },
   "outputs": [],
   "source": [
    "#y_scaler.inverse_transform(np.array(y_eval).reshape(y_eval.shape[0],1))"
   ]
  },
  {
   "cell_type": "code",
   "execution_count": null,
   "metadata": {
    "execution": {
     "iopub.status.busy": "2022-02-18T08:07:30.002587Z",
     "iopub.status.idle": "2022-02-18T08:07:30.009221Z"
    }
   },
   "outputs": [],
   "source": [
    "#To write the final created dataset to the working directory\n",
    "x_train.to_csv('x_train.csv')\n",
    "x_test.to_csv('x_test.csv')\n",
    "y_train.to_csv('y_train.csv')\n",
    "\n",
    "x_eval1.to_csv('x_eval1.csv')\n",
    "x_eval2.to_csv('x_eval2.csv')\n",
    "y_eval1.to_csv('y_eval1.csv')\n",
    "y_eval2.to_csv('y_eval2.csv')"
   ]
  },
  {
   "cell_type": "markdown",
   "metadata": {},
   "source": [
    "### FEATURE SELECTION"
   ]
  },
  {
   "cell_type": "code",
   "execution_count": null,
   "metadata": {
    "execution": {
     "iopub.status.busy": "2022-02-18T08:07:30.013851Z",
     "iopub.status.idle": "2022-02-18T08:07:30.014895Z"
    }
   },
   "outputs": [],
   "source": [
    "gc.collect()"
   ]
  },
  {
   "cell_type": "code",
   "execution_count": null,
   "metadata": {
    "execution": {
     "iopub.status.busy": "2022-02-18T08:07:30.016357Z",
     "iopub.status.idle": "2022-02-18T08:07:30.018283Z"
    }
   },
   "outputs": [],
   "source": [
    "def select_features(x_train,y_train,x_test,x_eval1,x_eval2):\n",
    "    fs = SelectKBest(score_func = f_regression,k=10)\n",
    "    fs.fit(x_train,y_train)\n",
    "    col_indices = fs.get_support(indices=True)\n",
    "    x_features = x_train.columns[col_indices]\n",
    "    x_train_fs = pd.DataFrame(fs.transform(x_train),columns=x_features)\n",
    "    x_test_fs = pd.DataFrame(fs.transform(x_test),columns=x_features)\n",
    "    x_eval1_fs = pd.DataFrame(fs.transform(x_eval1),columns=x_features)\n",
    "    x_eval2_fs = pd.DataFrame(fs.transform(x_eval2),columns=x_features)\n",
    "    return x_train_fs,x_test_fs,x_eval1_fs,x_eval2_fs,fs,x_features,col_indices"
   ]
  },
  {
   "cell_type": "code",
   "execution_count": null,
   "metadata": {
    "execution": {
     "iopub.status.busy": "2022-02-18T08:07:30.025080Z",
     "iopub.status.idle": "2022-02-18T08:07:30.026026Z"
    }
   },
   "outputs": [],
   "source": [
    "#x_train_fs,x_test_fs,x_eval1_fs,x_eval2_fs,fs,x_features,col_indices = select_features(x_train,y_train,x_test,x_eval1,x_eval2)"
   ]
  },
  {
   "cell_type": "code",
   "execution_count": null,
   "metadata": {
    "execution": {
     "iopub.status.busy": "2022-02-18T08:07:30.030812Z",
     "iopub.status.idle": "2022-02-18T08:07:30.032531Z"
    }
   },
   "outputs": [],
   "source": [
    "#for i in range(len(fs.scores_[col_indices])):\n",
    "#    print(\"\\n\",x_features[i],\"    \",fs.scores_[col_indices][i])"
   ]
  },
  {
   "cell_type": "code",
   "execution_count": null,
   "metadata": {
    "execution": {
     "iopub.status.busy": "2022-02-18T08:07:30.034265Z",
     "iopub.status.idle": "2022-02-18T08:07:30.035170Z"
    }
   },
   "outputs": [],
   "source": [
    "#selected_features = list(set(train_data.corr()['delay'][train_data.corr()['delay']>0.5].index) - set(['delay']) )\n",
    "#selected_features"
   ]
  },
  {
   "cell_type": "markdown",
   "metadata": {},
   "source": [
    "## MODEL TRAINING , PREDICTION AND EVALUATION"
   ]
  },
  {
   "cell_type": "code",
   "execution_count": null,
   "metadata": {
    "execution": {
     "iopub.status.busy": "2022-02-18T08:07:30.036862Z",
     "iopub.status.idle": "2022-02-18T08:07:30.037738Z"
    }
   },
   "outputs": [],
   "source": [
    "x_train.columns"
   ]
  },
  {
   "cell_type": "code",
   "execution_count": null,
   "metadata": {
    "execution": {
     "iopub.status.busy": "2022-02-18T08:07:30.039100Z",
     "iopub.status.idle": "2022-02-18T08:07:30.040472Z"
    }
   },
   "outputs": [],
   "source": [
    "def evaluate_metrics(x,y_true,y_pred,mod):\n",
    "    mean_abs_error = mean_absolute_error(y_true,y_pred)\n",
    "    mean_sq_error = mean_squared_error(y_true,y_pred)\n",
    "    root_mean_sq_error = mean_squared_error(y_true,y_pred)**0.5\n",
    "    r2_scr = r2_score(y_true,y_pred)\n",
    "    median_abs_score = median_absolute_error(y_true,y_pred)\n",
    "    explained_variance = explained_variance_score(y_true,y_pred)\n",
    "    return mean_abs_error,mean_sq_error,root_mean_sq_error,r2_scr,median_abs_score,explained_variance  "
   ]
  },
  {
   "cell_type": "code",
   "execution_count": null,
   "metadata": {
    "execution": {
     "iopub.status.busy": "2022-02-18T08:07:30.042835Z",
     "iopub.status.idle": "2022-02-18T08:07:30.044264Z"
    }
   },
   "outputs": [],
   "source": [
    "data.corr()['payment_term']"
   ]
  },
  {
   "cell_type": "code",
   "execution_count": null,
   "metadata": {
    "execution": {
     "iopub.status.busy": "2022-02-18T08:07:30.045897Z",
     "iopub.status.idle": "2022-02-18T08:07:30.061013Z"
    }
   },
   "outputs": [],
   "source": [
    "regression_algo = ['1. LINEAR REGRESSION','2. RIDGE REGRESSION','3. LASSO REGRESSION','4. RANDOM FOREST REGRESSION','5. SUPPORT VECTOR REGRESSION(RBF)','6. DECISION TREE REGRESSION','7. XBF REGRESSION'] \n",
    "\n",
    "metric_names = [\"MEAN ABSOLUTE ERROR\",\"SCORE\",\"MEAN SQUARED ERROR\",\"ROOT MEAN SQUARED ERROR\",\"R2 SCORE\",\"MEDIAN ABSOLUTE ERROR\",\"EXPLAINED VARIANCE SCORE\"]\n",
    "\n",
    "reg_metrics = []"
   ]
  },
  {
   "cell_type": "markdown",
   "metadata": {},
   "source": [
    "### 1. LINEAR REGRESSION"
   ]
  },
  {
   "cell_type": "code",
   "execution_count": null,
   "metadata": {
    "execution": {
     "iopub.status.busy": "2022-02-18T08:07:30.062606Z",
     "iopub.status.idle": "2022-02-18T08:07:30.063491Z"
    }
   },
   "outputs": [],
   "source": [
    "gc.collect()"
   ]
  },
  {
   "cell_type": "code",
   "execution_count": null,
   "metadata": {
    "execution": {
     "iopub.status.busy": "2022-02-18T08:07:30.064872Z",
     "iopub.status.idle": "2022-02-18T08:07:30.066290Z"
    }
   },
   "outputs": [],
   "source": [
    "model1 = LinearRegression()\n",
    "parameters = {'fit_intercept':[True,False],'n_jobs':[1,2,3],'normalize':[True,False]}\n",
    "grid = GridSearchCV(estimator = model1,param_grid= parameters,scoring = 'neg_mean_squared_error',verbose = 1)     \n",
    "grid_results = grid.fit(x_train,y_train)\n",
    "print('BEST SCORE:  ',grid_results.best_score_)\n",
    "print('BEST PARAMS:  ',grid_results.best_params_)"
   ]
  },
  {
   "cell_type": "code",
   "execution_count": null,
   "metadata": {
    "execution": {
     "iopub.status.busy": "2022-02-18T08:07:30.069765Z",
     "iopub.status.idle": "2022-02-18T08:07:30.072597Z"
    }
   },
   "outputs": [],
   "source": [
    "model1 = LinearRegression(fit_intercept = grid_results.best_params_['fit_intercept'],n_jobs = grid_results.best_params_['n_jobs'])\n",
    "model1.fit(x_train,y_train)\n",
    "y_pred1 = model1.predict(x_eval1)\n",
    "y_pred1 = y_pred1.reshape(y_pred1.shape[0])\n",
    "y_eval1 = np.array(y_eval1)\n",
    "y_predicted = y_scaler.inverse_transform(y_pred1.reshape(y_pred1.shape[0],1)).reshape(y_pred1.shape[0])\n",
    "y_true = y_scaler.inverse_transform(y_eval1.reshape(y_eval1.shape[0],1)).reshape(y_eval1.shape[0])\n",
    "mean_abs_error,mean_sq_error,root_mean_sq_error,r2_scr,median_abs_score,explained_variance = evaluate_metrics(x_eval1,y_eval1,y_pred1,model1)\n",
    "scr = model1.score(x_eval1,y_eval1)\n",
    "reg_metrics.append([mean_abs_error,scr,mean_sq_error,root_mean_sq_error,r2_scr,median_abs_score,explained_variance])\n",
    "\n",
    "print(\"METRICS  :\\n\\nMean Absolute Error :  \",mean_abs_error,\"\\nScore :   \",scr,\"\\nMean Squared Error :  \",mean_sq_error,\"\\nRoot Mean Squared Error :  \",root_mean_sq_error,\"\\nR2 Square :  \",r2_scr,\"\\nMedian Absolute Score :  \",median_abs_score,\"\\nExplained Variance Score :  \",explained_variance)    "
   ]
  },
  {
   "cell_type": "code",
   "execution_count": null,
   "metadata": {
    "execution": {
     "iopub.status.busy": "2022-02-18T08:07:30.079934Z",
     "iopub.status.idle": "2022-02-18T08:07:30.082304Z"
    }
   },
   "outputs": [],
   "source": [
    "reg_metrics"
   ]
  },
  {
   "cell_type": "code",
   "execution_count": null,
   "metadata": {
    "execution": {
     "iopub.status.busy": "2022-02-18T08:07:30.085974Z",
     "iopub.status.idle": "2022-02-18T08:07:30.087172Z"
    }
   },
   "outputs": [],
   "source": [
    "def plot_regression_line(x_test,y_test,y_pred):\n",
    "    for col in x_test.columns:\n",
    "        #plt.scatter(x_test[col],y_test,color='red')\n",
    "        plt.plot(x_test[col],y_pred1,color='yellow',linewidth = 0.5)\n",
    "        plt.xlim(-0.00000000000001,0.000000000000001)\n",
    "        plt.xlabel(col)\n",
    "        plt.ylabel('delay')\n",
    "        plt.title('{} V/S {} Regression Line\\n'.format(col,'delay'))\n",
    "        plt.show()"
   ]
  },
  {
   "cell_type": "code",
   "execution_count": null,
   "metadata": {
    "execution": {
     "iopub.status.busy": "2022-02-18T08:07:30.094900Z",
     "iopub.status.idle": "2022-02-18T08:07:30.095865Z"
    }
   },
   "outputs": [],
   "source": [
    "#plot_regression_line(x_eval1,y_eval1,y_pred1)"
   ]
  },
  {
   "cell_type": "markdown",
   "metadata": {},
   "source": [
    "### 2. REGULARIZATION AND EVALUATION : RIDGE REGRESSION"
   ]
  },
  {
   "cell_type": "code",
   "execution_count": null,
   "metadata": {
    "execution": {
     "iopub.status.busy": "2022-02-18T08:07:30.097245Z",
     "iopub.status.idle": "2022-02-18T08:07:30.098101Z"
    }
   },
   "outputs": [],
   "source": [
    "ridge = Ridge()\n",
    "parameters = {'alpha':[x for x in [0.0005,0.0001,0.00021,0.0006,0.1,0.001,0.005,0.008,0.1,0.5,1,0.1,0.09,0.08,0.06,0.05,0.03,0.01,0.02,0.2,0.3,0.4,0.5,0.6,0.7,0.8,0.9,1]]}  \n",
    "\n",
    "ridge_reg = GridSearchCV(ridge,param_grid = parameters,verbose=1)\n",
    "ridge_reg = ridge_reg.fit(x_train,y_train)\n",
    "\n",
    "alpha = ridge_reg.best_params_['alpha']\n",
    "\n",
    "print(\"\\n\\nBest Alpha:  \",ridge_reg.best_params_,\"\\nScore:  \",ridge_reg.best_score_)\n",
    "\n",
    "ridge_mod = Ridge(alpha=alpha)\n",
    "ridge_mod=ridge_mod.fit(x_train,y_train)\n",
    "y_pred1 = ridge_mod.predict(x_eval1)\n",
    "y_pred2 = ridge_mod.predict(x_eval2)\n",
    "\n",
    "\n",
    "mean_abs_error,mean_sq_error,root_mean_sq_error,r2_scr,median_abs_score,explained_variance = evaluate_metrics(x_eval1,y_eval1,y_pred1,ridge_mod)\n",
    "scr = ridge_mod.score(x_eval1,y_eval1)\n",
    "print(\"\\n\\n\\nMETRICS  :\\n\\nMean Absolute Error :  \",mean_abs_error,\"\\nScore :   \",scr,\"\\nMean Squared Error :  \",mean_sq_error,\"\\nRoot Mean Squared Error :  \",root_mean_sq_error,\"\\nR2 Square :  \",r2_scr,\"\\nMedian Absolute Score :  \",median_abs_score,\"\\nExplained Variance Score :  \",explained_variance)\n",
    "\n"
   ]
  },
  {
   "cell_type": "code",
   "execution_count": null,
   "metadata": {
    "execution": {
     "iopub.status.busy": "2022-02-18T08:07:30.106514Z",
     "iopub.status.idle": "2022-02-18T08:07:30.107584Z"
    }
   },
   "outputs": [],
   "source": [
    "reg_metrics.append([mean_abs_error,scr,mean_sq_error,root_mean_sq_error,r2_scr,median_abs_score,explained_variance])\n",
    "reg_metrics"
   ]
  },
  {
   "cell_type": "code",
   "execution_count": null,
   "metadata": {
    "execution": {
     "iopub.status.busy": "2022-02-18T08:07:30.109017Z",
     "iopub.status.idle": "2022-02-18T08:07:30.109887Z"
    }
   },
   "outputs": [],
   "source": [
    "# hyper parameter tuninhg using the evaluation set\n",
    "\n",
    "ridge_reg = GridSearchCV(ridge,param_grid = parameters,verbose=1)\n",
    "ridge_reg = ridge_reg.fit(x_eval1,y_eval1)\n",
    "alpha = ridge_reg.best_params_['alpha']\n",
    "\n",
    "print(\"\\n\\nBest Alpha:  \",ridge_reg.best_params_,\"\\nScore:  \",ridge_reg.best_score_)\n"
   ]
  },
  {
   "cell_type": "code",
   "execution_count": null,
   "metadata": {
    "execution": {
     "iopub.status.busy": "2022-02-18T08:07:30.116941Z",
     "iopub.status.idle": "2022-02-18T08:07:30.117941Z"
    }
   },
   "outputs": [],
   "source": [
    "# For 2nd Evaluation set\n",
    "\n",
    "mean_abs_error,mean_sq_error,root_mean_sq_error,r2_scr,median_abs_score,explained_variance = evaluate_metrics(x_eval2,y_eval2,y_pred2,ridge_mod)\n",
    "scr = ridge_mod.score(x_eval2,y_eval2)\n",
    "print(\"\\n\\n\\nMETRICS  :\\n\\nMean Absolute Error :  \",mean_abs_error,\"\\nScore :   \",scr,\"\\nMean Squared Error :  \",mean_sq_error,\"\\nRoot Mean Squared Error :  \",root_mean_sq_error,\"\\nR2 Square :  \",r2_scr,\"\\nMedian Absolute Score :  \",median_abs_score,\"\\nExplained Variance Score :  \",explained_variance)    "
   ]
  },
  {
   "cell_type": "markdown",
   "metadata": {},
   "source": [
    "### 3. REGULARIZATION AND EVALUATION : LASSO REGRESSION"
   ]
  },
  {
   "cell_type": "code",
   "execution_count": null,
   "metadata": {
    "execution": {
     "iopub.status.busy": "2022-02-18T08:07:30.119369Z",
     "iopub.status.idle": "2022-02-18T08:07:30.120228Z"
    }
   },
   "outputs": [],
   "source": [
    "# Hyper Parameter tuning using the train data\n",
    "\n",
    "lasso_reg = Lasso()\n",
    "parameters = {'alpha':[x for x in [0.0005,0.0001,0.00021,0.0006,0.1,0.001,0.005,0.008,0.1,0.5,1]]}  \n",
    "lasso_reg = GridSearchCV(lasso_reg,param_grid=parameters,verbose=1)\n",
    "lasso_reg.fit(x_train,y_train)\n",
    "\n",
    "print(\"\\n\\n\\nBest Alpha : \",lasso_reg.best_params_,\"\\nBest Score : \",lasso_reg.best_score_)\n",
    "\n",
    "lasso_reg = Lasso(alpha=0.0001)\n",
    "lasso_reg = lasso_reg.fit(x_train,y_train)\n",
    "y_pred1 = np.array(lasso_reg.predict(x_eval1))\n",
    "\n",
    "mean_abs_error,mean_sq_error,root_mean_sq_error,r2_scr,median_abs_score,explained_variance = evaluate_metrics(x_eval1,y_eval1.reshape(y_eval1.shape[0],1),y_pred1.reshape(y_pred1.shape[0],1),ridge_mod)\n",
    "scr = lasso_reg.score(x_eval1,y_eval1)\n",
    "reg_metrics.append([mean_abs_error,scr,mean_sq_error,root_mean_sq_error,r2_scr,median_abs_score,explained_variance])\n",
    "\n",
    "print(\"METRICS  :\\n\\nMean Absolute Error :  \",mean_abs_error,\"\\nScore :   \",scr,\"\\nMean Squared Error :  \",mean_sq_error,\"\\nRoot Mean Squared Error :  \",root_mean_sq_error,\"\\nR2 Square :  \",r2_scr,\"\\nMedian Absolute Score :  \",median_abs_score,\"\\nExplained Variance Score :  \",explained_variance)    "
   ]
  },
  {
   "cell_type": "code",
   "execution_count": null,
   "metadata": {
    "execution": {
     "iopub.status.busy": "2022-02-18T08:07:30.121567Z",
     "iopub.status.idle": "2022-02-18T08:07:30.131094Z"
    }
   },
   "outputs": [],
   "source": [
    "# Hyper Parameter tuning using the 1st evaluation Data\n",
    "\n",
    "parameters = {'alpha':[x for x in [0.0005,0.0002,0.0003,0.0004,0.009,0.0001,0.00021,0.0006,0.1,0.001,0.005,0.008,0.1,0.5,1]]}  \n",
    "lasso_reg = GridSearchCV(lasso_reg,param_grid=parameters)\n",
    "lasso_reg.fit(x_eval1,y_eval1)\n",
    "\n",
    "print(\"\\n\\n\\nBest Alpha : \",lasso_reg.best_params_,\"\\nBest Score : \",lasso_reg.best_score_)\n",
    "\n",
    "lasso_reg = Lasso(alpha=0.0001)\n",
    "lasso_reg = lasso_reg.fit(x_train,y_train)    "
   ]
  },
  {
   "cell_type": "code",
   "execution_count": null,
   "metadata": {
    "execution": {
     "iopub.status.busy": "2022-02-18T08:07:30.132456Z",
     "iopub.status.idle": "2022-02-18T08:07:30.133033Z"
    }
   },
   "outputs": [],
   "source": [
    "## We still get the best value of alpha as : 0.0001.. So ther e is not much difference\n",
    "\n",
    "\n",
    "# Evaluating on the 2nd Evaluation Data\n",
    "\n",
    "y_pred2 = np.array(lasso_reg.predict(x_eval2))\n",
    "\n",
    "mean_abs_error,mean_sq_error,root_mean_sq_error,r2_scr,median_abs_score,explained_variance = evaluate_metrics(x_eval2,np.array(y_eval2).reshape(np.array(y_eval2).shape[0],1),y_pred2.reshape(y_pred2.shape[0],1),ridge_mod)\n",
    "scr = lasso_reg.score(x_eval2,y_eval2)\n",
    "#reg_metrics.append([mean_abs_error,scr,mean_sq_error,root_mean_sq_error,r2_scr,median_abs_score,explained_variance])\n",
    "\n",
    "print(\"\\n\\n1st Evaluation Data\\n\\nMETRICS  :\\n\\nMean Absolute Error :  \",mean_abs_error,\"\\nScore :   \",scr,\"\\nMean Squared Error :  \",mean_sq_error,\"\\nRoot Mean Squared Error :  \",root_mean_sq_error,\"\\nR2 Square :  \",r2_scr,\"\\nMedian Absolute Score :  \",median_abs_score,\"\\nExplained Variance Score :  \",explained_variance)    "
   ]
  },
  {
   "cell_type": "markdown",
   "metadata": {},
   "source": [
    " ### 4. RANDOM FOREST REGRESSOR"
   ]
  },
  {
   "cell_type": "code",
   "execution_count": null,
   "metadata": {
    "execution": {
     "iopub.status.busy": "2022-02-18T08:07:30.134082Z",
     "iopub.status.idle": "2022-02-18T08:07:30.169570Z"
    }
   },
   "outputs": [],
   "source": [
    "gc.collect()"
   ]
  },
  {
   "cell_type": "code",
   "execution_count": null,
   "metadata": {
    "execution": {
     "iopub.status.busy": "2022-02-18T08:07:30.179760Z",
     "iopub.status.idle": "2022-02-18T08:07:30.180705Z"
    }
   },
   "outputs": [],
   "source": [
    "%%time\n",
    "\n",
    "# Performing Grid-Search\n",
    "#gsc = GridSearchCV(estimator = RandomForestRegressor(),param_grid={'max_depth':[9,10],'n_estimators':(500,1000)},cv=5,scoring = 'neg_mean_squared_error',verbose=1,n_jobs=-1)\n",
    "#grid_result = gsc.fit(x_train,y_train)\n",
    "#best_params = grid_result.best_params_\n",
    "#print(\"\\n\\nBest Params : \\n\",best_params)\n",
    "\n",
    "rfr = RandomForestRegressor(max_depth=10,n_estimators=500,random_state=False,verbose=True) \n",
    "\n",
    "rfr.fit(x_train,y_train)\n",
    "\n",
    "y_pred1 = rfr.predict(x_eval1)\n",
    "\n",
    "scr = rfr.score(x_eval1,y_eval1)\n",
    "\n",
    "mean_abs_error,mean_sq_error,root_mean_sq_error,r2_scr,median_abs_score,explained_variance = evaluate_metrics(x_eval1,y_eval1,y_pred1,rfr)\n",
    "reg_metrics.append([mean_abs_error,scr,mean_sq_error,root_mean_sq_error,r2_scr,median_abs_score,explained_variance])\n",
    "\n",
    "print(\"METRICS  :\\n\\nMean Absolute Error :  \",mean_abs_error,\"\\nScore :   \",scr,\"\\nMean Squared Error :  \",mean_sq_error,\"\\nRoot Mean Squared Error :  \",root_mean_sq_error,\"\\nR2 Square :  \",r2_scr,\"\\nMedian Absolute Score :  \",median_abs_score,\"\\nExplained Variance Score :  \",explained_variance)    "
   ]
  },
  {
   "cell_type": "code",
   "execution_count": null,
   "metadata": {
    "execution": {
     "iopub.status.busy": "2022-02-18T08:07:30.187702Z",
     "iopub.status.idle": "2022-02-18T08:07:30.188494Z"
    }
   },
   "outputs": [],
   "source": [
    "# Evaluating in with the 2nd evaluation data\n",
    "\n",
    "y_pred2 = rfr.predict(x_eval2)\n",
    "\n",
    "scr = rfr.score(x_eval2,y_eval2)\n",
    "\n",
    "mean_abs_error,mean_sq_error,root_mean_sq_error,r2_scr,median_abs_score,explained_variance = evaluate_metrics(x_eval2,np.array(y_eval2).reshape(np.array(y_eval2).shape[0],1),y_pred2,rfr)\n",
    "print(\"METRICS  :\\n\\nMean Absolute Error :  \",mean_abs_error,\"\\nScore :   \",scr,\"\\nMean Squared Error :  \",mean_sq_error,\"\\nRoot Mean Squared Error :  \",root_mean_sq_error,\"\\nR2 Square :  \",r2_scr,\"\\nMedian Absolute Score :  \",median_abs_score,\"\\nExplained Variance Score :  \",explained_variance)    "
   ]
  },
  {
   "cell_type": "code",
   "execution_count": null,
   "metadata": {
    "execution": {
     "iopub.status.busy": "2022-02-18T08:07:30.194756Z",
     "iopub.status.idle": "2022-02-18T08:07:30.200562Z"
    }
   },
   "outputs": [],
   "source": [
    "reg_metrics"
   ]
  },
  {
   "cell_type": "markdown",
   "metadata": {},
   "source": [
    "### 5. SUPPORT VECTOR MACHINES: REGRESSION"
   ]
  },
  {
   "cell_type": "markdown",
   "metadata": {},
   "source": [
    "### Linear Kernel"
   ]
  },
  {
   "cell_type": "code",
   "execution_count": null,
   "metadata": {
    "execution": {
     "iopub.status.busy": "2022-02-18T08:07:30.202544Z",
     "iopub.status.idle": "2022-02-18T08:07:30.210596Z"
    }
   },
   "outputs": [],
   "source": [
    "# C: regulation parameter --> inversely proportional to regularization\n",
    "# 'epsilon' --> It specifies the epsilon-tube within whic LPVh no penalty is associated in the training loss function with points predicted within a distance epsilon from the actual value."
   ]
  },
  {
   "cell_type": "code",
   "execution_count": null,
   "metadata": {
    "execution": {
     "iopub.status.busy": "2022-02-18T08:07:30.212431Z",
     "iopub.status.idle": "2022-02-18T08:07:30.217051Z"
    }
   },
   "outputs": [],
   "source": [
    "%%time\n",
    "\n",
    "#gsc1 = GridSearchCV(estimator=SVR(kernel='linear'),param_grid={'C':[0.1,1,10,100,1000],'epsilon':[10,5,1,0.1,0.5,0.01,0.001,0.0001,0.00001]},cv=5,scoring='neg_mean_squared_error',verbose=0,n_jobs=-1)      \n",
    "#grid_result = gsc1.fit(x_train,y_train)\n",
    "#best_params = grid_result.best_params_\n",
    "#svr1 = SVR(kernel='linear',C=10,epsilon=0.01,cache_size=200,verbose=True,max_iter = -1)        \n",
    "#svr1 = svr1.fit(x_train,y_train)\n",
    "#y_pred1 = svr1.fit(x_eval1,y_eval1)\n",
    "#mean_abs_error,mean_sq_error,root_mean_sq_error,r2_scr,median_abs_score,explained_variance = evaluate_metrics(x_eval1,y_eval1,y_pred1,svr1)\n",
    "#scr = svr1.score(x_eval1,y_eval1)\n",
    "#reg_metrics.append([mean_abs_error,scr,mean_sq_error,root_mean_sq_error,r2_scr,median_abs_score,explained_variance])\n",
    "#print(\"METRICS  :\\n\\nMean Absolute Error :  \",mean_abs_error,\"\\nScore :   \",scr,\"\\nMean Squared Error :  \",mean_sq_error,\"\\nRoot Mean Squared Error :  \",root_mean_sq_error,\"\\nR2 Square :  \",r2_scr,\"\\nMedian Absolute Score :  \",median_abs_score,\"\\nExplained Variance Score :  \",explained_variance)   "
   ]
  },
  {
   "cell_type": "markdown",
   "metadata": {},
   "source": [
    "### 5.2. Using 'polynomial' kernel[](http://)"
   ]
  },
  {
   "cell_type": "code",
   "execution_count": null,
   "metadata": {
    "execution": {
     "iopub.status.busy": "2022-02-18T08:07:30.223594Z",
     "iopub.status.idle": "2022-02-18T08:07:30.224535Z"
    }
   },
   "outputs": [],
   "source": [
    "%%time\n",
    "\n",
    "#gsc1 = GridSearchCV(estimator=SVR(kernel='poly'),param_grid={'C':[0.1,1,10,100,1000],'epsilon':[10,5,1,0.1,0.5,0.01,0.01,0.005,0.001,0.0001,0.00001],'degree':[2,3,4,5],'coef0':[0.1,0.01,0.001,0.0001]},cv=5,scoring='neg_mean_squared_error',verbose=0,n_jobs=-1)      \n",
    "#grid_result = gsc1.fit(x_train,y_train)\n",
    "#best_params = grid_result.best_params_\n",
    "#svr1 = SVR(kernel='poly',C=1,epsilon=0.01,coef0=0.001,degree = 2,shrinking = True, tol=0.001 ,cache_size=200,verbose=False,max_iter = -1)        \n",
    "#y_pred1 = svr1.predict(x_eval1,y_eval1)\n",
    "#mean_abs_error,mean_sq_error,root_mean_sq_error,r2_scr,median_abs_score,explained_variance = evaluate_metrics(x_eval1,y_eval1,y_pred1,svr1)\n",
    "#scr = svr1.score(x_eval1,y_eval1)\n",
    "#reg_metrics.append([mean_abs_error,mean_sq_error,root_mean_sq_error,r2_scr,median_abs_score,explained_variance])\n",
    "\n",
    "#print(\"METRICS  :\\n\\nMean Absolute Error :  \",mean_abs_error,\"\\nScore :   \",scr,\"\\nMean Squared Error :  \",mean_sq_error,\"\\nRoot Mean Squared Error :  \",root_mean_sq_error,\"\\nR2 Square :  \",r2_scr,\"\\nMedian Absolute Score :  \",median_abs_score,\"\\nExplained Variance Score :  \",explained_variance)   "
   ]
  },
  {
   "cell_type": "markdown",
   "metadata": {},
   "source": [
    "### 5.3. Using 'RBF' kernel"
   ]
  },
  {
   "cell_type": "markdown",
   "metadata": {},
   "source": []
  },
  {
   "cell_type": "code",
   "execution_count": null,
   "metadata": {
    "execution": {
     "iopub.status.busy": "2022-02-18T08:07:30.230634Z",
     "iopub.status.idle": "2022-02-18T08:07:30.231512Z"
    }
   },
   "outputs": [],
   "source": [
    "%%time\n",
    "\n",
    "#gsc1 = GridSearchCV(estimator=SVR(kernel='rbf'),param_grid={'C':[0.1,1,10,100,1000],'epsilon':[10,5,1,0.1,0.5,0.01,0.01,0.005,0.001,0.0001,0.0005],'gamma':[5,3,1,0.1,0.01,0.05,0.001,0.005,0.0001]},cv=5,scoring='neg_mean_squared_error',verbose=0,n_jobs=-1)      \n",
    "#grid_result = gsc1.fit(x_train,y_train)\n",
    "#best_params = grid_result.best_params_\n",
    "#svr1 = SVR(kernel='rbf',C=10,epsilon=0.01,gamma=0.01,coef0=0.1,shrinking = True, tol=0.001 ,cache_size=200,verbose=True,max_iter = -1)        \n",
    "#svr1 = svr1.fit(x_train,y_train)\n",
    "#y_pred1 = svr1.predict(x_eval1)\n",
    "#mean_abs_error,mean_sq_error,root_mean_sq_error,r2_scr,median_abs_score,explained_variance = evaluate_metrics(x_eval1,y_eval1,y_pred1,svr1)\n",
    "#scr = svr1.score(x_eval1,y_eval1)\n",
    "#reg_metrics.append([mean_abs_error,mean_sq_error,root_mean_sq_error,r2_scr,median_abs_score,explained_variance])\n",
    "#print(\"METRICS  :\\n\\nMean Absolute Error :  \",mean_abs_error,\"\\nScore :   \",scr,\"\\nMean Squared Error :  \",mean_sq_error,\"\\nRoot Mean Squared Error :  \",root_mean_sq_error,\"\\nR2 Square :  \",r2_scr,\"\\nMedian Absolute Score :  \",median_abs_score,\"\\nExplained Variance Score :  \",explained_variance)   "
   ]
  },
  {
   "cell_type": "markdown",
   "metadata": {},
   "source": [
    "### 6. DECISION TREE REGRESSOR"
   ]
  },
  {
   "cell_type": "code",
   "execution_count": null,
   "metadata": {
    "execution": {
     "iopub.status.busy": "2022-02-18T08:07:30.237623Z",
     "iopub.status.idle": "2022-02-18T08:07:30.238514Z"
    }
   },
   "outputs": [],
   "source": [
    "dtr = DecisionTreeRegressor()\n",
    "dtr.fit(x_train,y_train)\n",
    "y_pred1 = dtr.predict(x_eval1)\n",
    "mean_abs_error,mean_sq_error,root_mean_sq_error,r2_scr,median_abs_score,explained_variance = evaluate_metrics(x_eval1,y_eval1,y_pred1,dtr)\n",
    "scr = dtr.score(x_eval1,y_eval1)\n",
    "reg_metrics.append([mean_abs_error,scr,mean_sq_error,root_mean_sq_error,r2_scr,median_abs_score,explained_variance])\n",
    "print(\"METRICS  :\\n\\nMean Absolute Error :  \",mean_abs_error,\"\\nScore :   \",scr,\"\\nMean Squared Error :  \",mean_sq_error,\"\\nRoot Mean Squared Error :  \",root_mean_sq_error,\"\\nR2 Square :  \",r2_scr,\"\\nMedian Absolute Score :  \",median_abs_score,\"\\nExplained Variance Score :  \",explained_variance)   "
   ]
  },
  {
   "cell_type": "markdown",
   "metadata": {},
   "source": [
    "### 7. XGB REGRESSOR"
   ]
  },
  {
   "cell_type": "code",
   "execution_count": null,
   "metadata": {
    "execution": {
     "iopub.status.busy": "2022-02-18T08:07:30.260527Z",
     "iopub.status.idle": "2022-02-18T08:07:30.266544Z"
    }
   },
   "outputs": [],
   "source": [
    "cols = list(set(x_train.columns) - set(['cust_payment_terms', 'business_code']) )"
   ]
  },
  {
   "cell_type": "code",
   "execution_count": null,
   "metadata": {
    "execution": {
     "iopub.status.busy": "2022-02-18T08:07:30.268269Z",
     "iopub.status.idle": "2022-02-18T08:07:30.275041Z"
    }
   },
   "outputs": [],
   "source": [
    "xgb_model = xgb.XGBRegressor()\n",
    "xgb_model.fit(x_train,y_train)\n",
    "y_pred1 = xgb_model.predict(x_eval1)\n",
    "mean_abs_error,mean_sq_error,root_mean_sq_error,r2_scr,median_abs_score,explained_variance = evaluate_metrics(x_eval1,y_eval1,y_pred1,dtr)\n",
    "scr = dtr.score(x_eval1,y_eval1)\n",
    "reg_metrics.append([mean_abs_error,scr,mean_sq_error,root_mean_sq_error,r2_scr,median_abs_score,explained_variance])\n",
    "print(\"METRICS  :\\n\\nMean Absolute Error :  \",mean_abs_error,\"\\nScore :   \",scr,\"\\nMean Squared Error :  \",mean_sq_error,\"\\nRoot Mean Squared Error :  \",root_mean_sq_error,\"\\nR2 Square :  \",r2_scr,\"\\nMedian Absolute Score :  \",median_abs_score,\"\\nExplained Variance Score :  \",explained_variance)   "
   ]
  },
  {
   "cell_type": "markdown",
   "metadata": {},
   "source": [
    "### Comparision between METRICS"
   ]
  },
  {
   "cell_type": "code",
   "execution_count": null,
   "metadata": {
    "execution": {
     "iopub.status.busy": "2022-02-18T08:07:30.276886Z",
     "iopub.status.idle": "2022-02-18T08:07:30.284221Z"
    }
   },
   "outputs": [],
   "source": [
    "regression_algo = ['1. LINEAR REGRESSION','2. RIDGE REGRESSION','3. LASSO REGRESSION','4. RANDOM FOREST REGRESSION','5. DECISION TREE REGRESSION','6. XBF REGRESSION'] \n",
    "\n",
    "metric_names = [\"MEAN ABSOLUTE ERROR\",\"SCORE\",\"MEAN SQUARED ERROR\",\"ROOT MEAN SQUARED ERROR\",\"R2 SCORE\",\"MEDIAN ABSOLUTE ERROR\",\"EXPLAINED VARIANCE SCORE\"]\n"
   ]
  },
  {
   "cell_type": "code",
   "execution_count": null,
   "metadata": {
    "execution": {
     "iopub.status.busy": "2022-02-18T08:07:30.285971Z",
     "iopub.status.idle": "2022-02-18T08:07:30.293561Z"
    }
   },
   "outputs": [],
   "source": [
    "comp_metrics = pd.DataFrame(reg_metrics,columns= metric_names, index = regression_algo)"
   ]
  },
  {
   "cell_type": "code",
   "execution_count": null,
   "metadata": {
    "execution": {
     "iopub.status.busy": "2022-02-18T08:07:30.295369Z",
     "iopub.status.idle": "2022-02-18T08:07:30.302554Z"
    }
   },
   "outputs": [],
   "source": [
    "comp_metrics"
   ]
  },
  {
   "cell_type": "code",
   "execution_count": null,
   "metadata": {
    "execution": {
     "iopub.status.busy": "2022-02-18T08:07:30.304278Z",
     "iopub.status.idle": "2022-02-18T08:07:30.311576Z"
    }
   },
   "outputs": [],
   "source": [
    "x_test_info"
   ]
  },
  {
   "cell_type": "markdown",
   "metadata": {},
   "source": [
    " ### COMPUTATION OF OUR ESTIMATED PAYMENT DATE ( We are using the '' model --- Better Accuracy as compared to other)"
   ]
  },
  {
   "cell_type": "code",
   "execution_count": null,
   "metadata": {
    "execution": {
     "iopub.status.busy": "2022-02-18T08:07:30.313517Z",
     "iopub.status.idle": "2022-02-18T08:07:30.320561Z"
    }
   },
   "outputs": [],
   "source": [
    "output = pd.DataFrame(columns=['INVOICE CREATE DATE','AMOUNT(IN USD)','INVOICE DUE DATE','INVOICE PAYMENT TERM','INVOICE PAYMENT DATE','DELAY','BUCKET ID'])"
   ]
  },
  {
   "cell_type": "code",
   "execution_count": null,
   "metadata": {
    "execution": {
     "iopub.status.busy": "2022-02-18T08:07:30.322340Z",
     "iopub.status.idle": "2022-02-18T08:07:30.324517Z"
    }
   },
   "outputs": [],
   "source": [
    "output['INVOICE CREATE DATE'] = x_test_info['baseline_create_date']\n",
    "output['INVOICE DUE DATE'] = x_test_info['due_in_date']\n",
    "output['AMOUNT(IN USD)'] = x_test_info['total_open_amount_y'].apply(np.exp)"
   ]
  },
  {
   "cell_type": "code",
   "execution_count": null,
   "metadata": {
    "execution": {
     "iopub.status.busy": "2022-02-18T08:07:30.327665Z",
     "iopub.status.idle": "2022-02-18T08:07:30.332985Z"
    }
   },
   "outputs": [],
   "source": [
    "x_test = x_test.dropna()\n",
    "y_pred = model1.predict(x_test)\n",
    "y_pred = y_scaler.inverse_transform(np.array(y_pred).reshape(np.array(y_pred).shape[0],1)).reshape(np.array(y_pred).shape[0])\n",
    "y_pred = np.ceil(np.array(y_pred))"
   ]
  },
  {
   "cell_type": "code",
   "execution_count": null,
   "metadata": {
    "execution": {
     "iopub.status.busy": "2022-02-18T08:07:30.342885Z",
     "iopub.status.idle": "2022-02-18T08:07:30.349574Z"
    }
   },
   "outputs": [],
   "source": [
    "output['INVOICE PAYMENT TERM'] = y_pred\n",
    "output['INVOICE PAYMENT DATE'] = output['INVOICE CREATE DATE'] + pd.to_timedelta(np.ceil(output['INVOICE PAYMENT TERM']),'D')"
   ]
  },
  {
   "cell_type": "code",
   "execution_count": null,
   "metadata": {
    "execution": {
     "iopub.status.busy": "2022-02-18T08:07:30.353792Z",
     "iopub.status.idle": "2022-02-18T08:07:30.355200Z"
    }
   },
   "outputs": [],
   "source": [
    "output['INVOICE PAYMENT TERM'] "
   ]
  },
  {
   "cell_type": "code",
   "execution_count": null,
   "metadata": {
    "execution": {
     "iopub.status.busy": "2022-02-18T08:07:30.363466Z",
     "iopub.status.idle": "2022-02-18T08:07:30.364222Z"
    }
   },
   "outputs": [],
   "source": [
    "output['DELAY'] = pd.Series(output['INVOICE PAYMENT TERM'] - output['INVOICE DUE DATE']).dt.days"
   ]
  },
  {
   "cell_type": "code",
   "execution_count": null,
   "metadata": {
    "execution": {
     "iopub.status.busy": "2022-02-18T08:07:30.378003Z",
     "iopub.status.idle": "2022-02-18T08:07:30.380476Z"
    }
   },
   "outputs": [],
   "source": [
    "num_cols"
   ]
  },
  {
   "cell_type": "code",
   "execution_count": null,
   "metadata": {
    "execution": {
     "iopub.status.busy": "2022-02-18T08:07:30.381828Z",
     "iopub.status.idle": "2022-02-18T08:07:30.383523Z"
    }
   },
   "outputs": [],
   "source": [
    "x_test_num = x_test[(set(num_cols) - set(['cust_number']))|set(['cust_number_x'])]"
   ]
  },
  {
   "cell_type": "code",
   "execution_count": null,
   "metadata": {
    "execution": {
     "iopub.status.busy": "2022-02-18T08:07:30.386470Z",
     "iopub.status.idle": "2022-02-18T08:07:30.387066Z"
    }
   },
   "outputs": [],
   "source": [
    "x_test_num.shape"
   ]
  },
  {
   "cell_type": "code",
   "execution_count": null,
   "metadata": {
    "execution": {
     "iopub.status.busy": "2022-02-18T08:07:30.392561Z",
     "iopub.status.idle": "2022-02-18T08:07:30.397566Z"
    }
   },
   "outputs": [],
   "source": [
    "x_test_num = pd.Series(scaler.inverse_transform(np.array(x_test_num)))"
   ]
  },
  {
   "cell_type": "code",
   "execution_count": null,
   "metadata": {
    "execution": {
     "iopub.status.busy": "2022-02-18T08:07:30.403627Z",
     "iopub.status.idle": "2022-02-18T08:07:30.404722Z"
    }
   },
   "outputs": [],
   "source": [
    "output['INVOICE CREATE DATE'] = pd.Datetime(x_test['metric_names'])"
   ]
  },
  {
   "cell_type": "code",
   "execution_count": null,
   "metadata": {},
   "outputs": [],
   "source": []
  }
 ],
 "metadata": {
  "kernelspec": {
   "display_name": "Python 3",
   "language": "python",
   "name": "python3"
  },
  "language_info": {
   "codemirror_mode": {
    "name": "ipython",
    "version": 3
   },
   "file_extension": ".py",
   "mimetype": "text/x-python",
   "name": "python",
   "nbconvert_exporter": "python",
   "pygments_lexer": "ipython3",
   "version": "3.9.5"
  }
 },
 "nbformat": 4,
 "nbformat_minor": 4
}
